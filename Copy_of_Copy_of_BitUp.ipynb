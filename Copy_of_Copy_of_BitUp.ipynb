{
  "cells": [
    {
      "cell_type": "markdown",
      "metadata": {
        "id": "view-in-github",
        "colab_type": "text"
      },
      "source": [
        "<a href=\"https://colab.research.google.com/github/BitUpTeam/BitUp/blob/Amasya/Copy_of_Copy_of_BitUp.ipynb\" target=\"_parent\"><img src=\"https://colab.research.google.com/assets/colab-badge.svg\" alt=\"Open In Colab\"/></a>"
      ]
    },
    {
      "cell_type": "code",
      "execution_count": null,
      "metadata": {
        "id": "JYtR0oSVowvY"
      },
      "outputs": [],
      "source": [
        "import pandas as pd\n",
        "import numpy as np\n",
        "import matplotlib.pyplot as plt\n",
        "import seaborn as sns\n",
        "sns.set()  # устанавливаем seaborn по умолчанию для отрисовки графиков"
      ]
    },
    {
      "cell_type": "code",
      "source": [
        "\n",
        "import os\n",
        "import pandas as pd\n",
        "import numpy as np\n",
        "import math\n",
        "import datetime as dt\n",
        "import matplotlib.pyplot as plt\n",
        "\n",
        "# For Evalution we will use these library\n",
        "\n",
        "from sklearn.metrics import mean_squared_error, mean_absolute_error, explained_variance_score, r2_score \n",
        "from sklearn.metrics import mean_poisson_deviance, mean_gamma_deviance, accuracy_score\n",
        "from sklearn.preprocessing import MinMaxScaler\n",
        "\n",
        "# For model building we will use these library\n",
        "\n",
        "import tensorflow as tf\n",
        "from tensorflow.keras.models import Sequential\n",
        "from tensorflow.keras.layers import Dense, Dropout\n",
        "from tensorflow.keras.layers import LSTM\n",
        "\n",
        "\n",
        "# For PLotting we will use these library\n",
        "\n",
        "import matplotlib.pyplot as plt\n",
        "from itertools import cycle\n",
        "import plotly.graph_objects as go\n",
        "import plotly.express as px\n",
        "from plotly.subplots import make_subplots"
      ],
      "metadata": {
        "id": "hQehoUVjarMH"
      },
      "execution_count": null,
      "outputs": []
    },
    {
      "cell_type": "markdown",
      "source": [
        "# Building LSTM Model"
      ],
      "metadata": {
        "id": "YzcxHw-1iwEX"
      }
    },
    {
      "cell_type": "code",
      "execution_count": null,
      "metadata": {
        "colab": {
          "base_uri": "https://localhost:8080/"
        },
        "id": "s27d0mGvo6RQ",
        "outputId": "262bc505-da58-47ce-a1e0-3b884fc88031"
      },
      "outputs": [
        {
          "output_type": "execute_result",
          "data": {
            "text/plain": [
              "array([[4.28907290e-03, 3.73944128e-03, 4.24270741e-03, 4.14358659e-03,\n",
              "        4.14358659e-03, 4.31449241e-05],\n",
              "       [4.15542811e-03, 3.57446063e-03, 3.64887469e-03, 3.65546320e-03,\n",
              "        3.65546320e-03, 8.14009147e-05],\n",
              "       [3.66922344e-03, 3.15121937e-03, 3.21734240e-03, 3.21556748e-03,\n",
              "        3.21556748e-03, 9.11925723e-05],\n",
              "       ...,\n",
              "       [3.29302248e-01, 3.23623918e-01, 3.32688214e-01, 3.29064641e-01,\n",
              "        3.29064641e-01, 3.17985921e-02],\n",
              "       [3.29171939e-01, 3.26664370e-01, 3.34321823e-01, 3.30283896e-01,\n",
              "        3.30283896e-01, 3.79274284e-02],\n",
              "       [3.30409195e-01, 3.26211646e-01, 3.34783595e-01, 3.30336587e-01,\n",
              "        3.30336587e-01, 4.97450703e-02]])"
            ]
          },
          "metadata": {},
          "execution_count": 18
        }
      ],
      "source": [
        "df = pd.read_csv(\"https://github.com/BitUpTeam/BitUp/blob/main/BTC-USD-DAY-17.09.2014-06.03.2023.csv?raw=true\", index_col = 'Date', parse_dates = True)\n",
        "df    "
      ]
    },
    {
      "cell_type": "code",
      "source": [
        "# del closedf['Date']\n",
        "scaler=MinMaxScaler(feature_range=(0,1))\n",
        "df1=scaler.fit_transform(np.array(df).reshape(-1,6))\n",
        "print(df1.shape)"
      ],
      "metadata": {
        "colab": {
          "base_uri": "https://localhost:8080/"
        },
        "id": "IwV8QXIxkLUa",
        "outputId": "f0874a49-7ea2-4b6d-a269-f6fcdd978743"
      },
      "execution_count": null,
      "outputs": [
        {
          "output_type": "stream",
          "name": "stdout",
          "text": [
            "(3093, 6)\n"
          ]
        }
      ]
    },
    {
      "cell_type": "code",
      "source": [
        "df1"
      ],
      "metadata": {
        "colab": {
          "base_uri": "https://localhost:8080/"
        },
        "id": "66xdu_TWJJQs",
        "outputId": "0bc80ef2-1325-447b-d594-55cb42909d55"
      },
      "execution_count": null,
      "outputs": [
        {
          "output_type": "execute_result",
          "data": {
            "text/plain": [
              "array([[4.28907290e-03, 3.73944128e-03, 4.24270741e-03, 4.14358659e-03,\n",
              "        4.14358659e-03, 4.31449241e-05],\n",
              "       [4.15542811e-03, 3.57446063e-03, 3.64887469e-03, 3.65546320e-03,\n",
              "        3.65546320e-03, 8.14009147e-05],\n",
              "       [3.66922344e-03, 3.15121937e-03, 3.21734240e-03, 3.21556748e-03,\n",
              "        3.21556748e-03, 9.11925723e-05],\n",
              "       ...,\n",
              "       [3.29302248e-01, 3.23623918e-01, 3.32688214e-01, 3.29064641e-01,\n",
              "        3.29064641e-01, 3.17985921e-02],\n",
              "       [3.29171939e-01, 3.26664370e-01, 3.34321823e-01, 3.30283896e-01,\n",
              "        3.30283896e-01, 3.79274284e-02],\n",
              "       [3.30409195e-01, 3.26211646e-01, 3.34783595e-01, 3.30336587e-01,\n",
              "        3.30336587e-01, 4.97450703e-02]])"
            ]
          },
          "metadata": {},
          "execution_count": 8
        }
      ]
    },
    {
      "cell_type": "code",
      "source": [
        "df1.shape"
      ],
      "metadata": {
        "colab": {
          "base_uri": "https://localhost:8080/"
        },
        "id": "xfe3sM6zIJGU",
        "outputId": "52b9f376-754b-47cd-ce41-3a2b4e573a65"
      },
      "execution_count": null,
      "outputs": [
        {
          "output_type": "execute_result",
          "data": {
            "text/plain": [
              "(3093, 6)"
            ]
          },
          "metadata": {},
          "execution_count": 9
        }
      ]
    },
    {
      "cell_type": "code",
      "source": [
        "training_size=int(len(df1)*0.70)\n",
        "test_size=len(df1)-training_size\n",
        "train_data,test_data=df1[0:training_size,:],df1[training_size:len(df1),:6]\n",
        "print(\"train_data: \", train_data.shape)\n",
        "print(\"test_data: \", test_data.shape)"
      ],
      "metadata": {
        "colab": {
          "base_uri": "https://localhost:8080/"
        },
        "id": "4kiQXP57kcUb",
        "outputId": "cc47d997-4c94-4ca0-d72a-82435e8aee54"
      },
      "execution_count": null,
      "outputs": [
        {
          "output_type": "stream",
          "name": "stdout",
          "text": [
            "train_data:  (2165, 6)\n",
            "test_data:  (928, 6)\n"
          ]
        }
      ]
    },
    {
      "cell_type": "code",
      "source": [
        "# convert an array of values into a dataset matrix\n",
        "\n",
        "def create_dataset(dataset, time_step=1):\n",
        "    dataX, dataY = [], []\n",
        "    for i in range(len(dataset)-time_step-1):\n",
        "        a = dataset[i:(i+time_step), :]   ###i=0, 0,1,2,3-----99   100 \n",
        "        dataX.append(a)\n",
        "        dataY.append(dataset[i + time_step, :])\n",
        "    return np.array(dataX), np.array(dataY)"
      ],
      "metadata": {
        "id": "yJ8OLBvTkqtj"
      },
      "execution_count": null,
      "outputs": []
    },
    {
      "cell_type": "code",
      "source": [
        "time_step = 15\n",
        "X_train, y_train = create_dataset(train_data, time_step)\n",
        "X_test, y_test = create_dataset(test_data, time_step)\n",
        "\n",
        "print(\"X_train: \", X_train.shape)\n",
        "print(\"y_train: \", y_train.shape)\n",
        "print(\"X_test: \", X_test.shape)\n",
        "print(\"y_test\", y_test.shape)"
      ],
      "metadata": {
        "colab": {
          "base_uri": "https://localhost:8080/"
        },
        "id": "iXne2sHakvCN",
        "outputId": "4aeeb105-a5d4-4bc1-db20-dab8a912ac58"
      },
      "execution_count": null,
      "outputs": [
        {
          "output_type": "stream",
          "name": "stdout",
          "text": [
            "X_train:  (2149, 15, 6)\n",
            "y_train:  (2149, 6)\n",
            "X_test:  (912, 15, 6)\n",
            "y_test (912, 6)\n"
          ]
        }
      ]
    },
    {
      "cell_type": "code",
      "source": [
        "# измените входные данные так, чтобы они были [данные, временной шаг, особенность], которые требуются для LSTM\n",
        "X_train =X_train.reshape(X_train.shape[0],X_train.shape[1] , 6)\n",
        "X_test = X_test.reshape(X_test.shape[0],X_test.shape[1] , 6)\n",
        "\n",
        "print(\"X_train: \", X_train.shape)\n",
        "print(\"X_test: \", X_test.shape)\n",
        "print(X_train)"
      ],
      "metadata": {
        "colab": {
          "base_uri": "https://localhost:8080/"
        },
        "id": "X4xFWj3Zk52R",
        "outputId": "46a8abc7-9bd7-431b-a4fc-49251653f69c"
      },
      "execution_count": null,
      "outputs": [
        {
          "output_type": "stream",
          "name": "stdout",
          "text": [
            "X_train:  (2149, 15, 6)\n",
            "X_test:  (912, 15, 6)\n",
            "[[[4.28907290e-03 3.73944128e-03 4.24270741e-03 4.14358659e-03\n",
            "   4.14358659e-03 4.31449241e-05]\n",
            "  [4.15542811e-03 3.57446063e-03 3.64887469e-03 3.65546320e-03\n",
            "   3.65546320e-03 8.14009147e-05]\n",
            "  [3.66922344e-03 3.15121937e-03 3.21734240e-03 3.21556748e-03\n",
            "   3.21556748e-03 9.11925723e-05]\n",
            "  ...\n",
            "  [2.96901561e-03 2.52967809e-03 3.03169189e-03 2.92873938e-03\n",
            "   2.92873938e-03 7.57436075e-05]\n",
            "  [2.95654774e-03 2.61375753e-03 3.04986124e-03 3.09904962e-03\n",
            "   3.09904962e-03 8.20394453e-05]\n",
            "  [3.12484982e-03 2.61961960e-03 3.16067449e-03 3.04964952e-03\n",
            "   3.04964952e-03 5.78832707e-05]]\n",
            "\n",
            " [[4.15542811e-03 3.57446063e-03 3.64887469e-03 3.65546320e-03\n",
            "   3.65546320e-03 8.14009147e-05]\n",
            "  [3.66922344e-03 3.15121937e-03 3.21734240e-03 3.21556748e-03\n",
            "   3.21556748e-03 9.11925723e-05]\n",
            "  [3.23240062e-03 3.08503185e-03 3.29816008e-03 3.42492004e-03\n",
            "   3.42492004e-03 8.81834148e-05]\n",
            "  ...\n",
            "  [2.95654774e-03 2.61375753e-03 3.04986124e-03 3.09904962e-03\n",
            "   3.09904962e-03 8.20394453e-05]\n",
            "  [3.12484982e-03 2.61961960e-03 3.16067449e-03 3.04964952e-03\n",
            "   3.04964952e-03 5.78832707e-05]\n",
            "  [3.07380559e-03 2.53384868e-03 3.04235520e-03 2.92287758e-03\n",
            "   2.92287758e-03 4.51989924e-05]]\n",
            "\n",
            " [[3.66922344e-03 3.15121937e-03 3.21734240e-03 3.21556748e-03\n",
            "   3.21556748e-03 9.11925723e-05]\n",
            "  [3.23240062e-03 3.08503185e-03 3.29816008e-03 3.42492004e-03\n",
            "   3.42492004e-03 8.81834148e-05]\n",
            "  [3.43147175e-03 2.92652603e-03 3.34797093e-03 3.27529593e-03\n",
            "   3.27529593e-03 5.88825241e-05]\n",
            "  ...\n",
            "  [3.12484982e-03 2.61961960e-03 3.16067449e-03 3.04964952e-03\n",
            "   3.04964952e-03 5.78832707e-05]\n",
            "  [3.07380559e-03 2.53384868e-03 3.04235520e-03 2.92287758e-03\n",
            "   2.92287758e-03 4.51989924e-05]\n",
            "  [2.94308515e-03 2.42008021e-03 2.81449115e-03 2.69197845e-03\n",
            "   2.69197845e-03 7.11946823e-05]]\n",
            "\n",
            " ...\n",
            "\n",
            " [[1.71907079e-01 1.72393943e-01 1.63820108e-01 1.61384731e-01\n",
            "   1.61384731e-01 7.80829567e-02]\n",
            "  [1.61294551e-01 1.63920871e-01 1.63733795e-01 1.64244770e-01\n",
            "   1.64244770e-01 5.77435657e-02]\n",
            "  [1.64299242e-01 1.62933712e-01 1.64968198e-01 1.63644431e-01\n",
            "   1.63644431e-01 6.05315699e-02]\n",
            "  ...\n",
            "  [1.72113312e-01 1.74097839e-01 1.73898943e-01 1.71998626e-01\n",
            "   1.71998626e-01 6.90446321e-02]\n",
            "  [1.72054506e-01 1.71359478e-01 1.75156177e-01 1.73435470e-01\n",
            "   1.73435470e-01 6.65285930e-02]\n",
            "  [1.73508924e-01 1.70946783e-01 1.74680290e-01 1.73837696e-01\n",
            "   1.73837696e-01 5.86315879e-02]]\n",
            "\n",
            " [[1.61294551e-01 1.63920871e-01 1.63733795e-01 1.64244770e-01\n",
            "   1.64244770e-01 5.77435657e-02]\n",
            "  [1.64299242e-01 1.62933712e-01 1.64968198e-01 1.63644431e-01\n",
            "   1.63644431e-01 6.05315699e-02]\n",
            "  [1.63670207e-01 1.68784509e-01 1.65936920e-01 1.71674408e-01\n",
            "   1.71674408e-01 6.95384060e-02]\n",
            "  ...\n",
            "  [1.72054506e-01 1.71359478e-01 1.75156177e-01 1.73435470e-01\n",
            "   1.73435470e-01 6.65285930e-02]\n",
            "  [1.73508924e-01 1.70946783e-01 1.74680290e-01 1.73837696e-01\n",
            "   1.73837696e-01 5.86315879e-02]\n",
            "  [1.73938959e-01 1.77131798e-01 1.75730089e-01 1.79203559e-01\n",
            "   1.79203559e-01 8.04126096e-02]]\n",
            "\n",
            " [[1.64299242e-01 1.62933712e-01 1.64968198e-01 1.63644431e-01\n",
            "   1.63644431e-01 6.05315699e-02]\n",
            "  [1.63670207e-01 1.68784509e-01 1.65936920e-01 1.71674408e-01\n",
            "   1.71674408e-01 6.95384060e-02]\n",
            "  [1.71775073e-01 1.70471915e-01 1.72588861e-01 1.72160408e-01\n",
            "   1.72160408e-01 6.66591368e-02]\n",
            "  ...\n",
            "  [1.73508924e-01 1.70946783e-01 1.74680290e-01 1.73837696e-01\n",
            "   1.73837696e-01 5.86315879e-02]\n",
            "  [1.73938959e-01 1.77131798e-01 1.75730089e-01 1.79203559e-01\n",
            "   1.79203559e-01 8.04126096e-02]\n",
            "  [1.79226510e-01 1.76791315e-01 1.77962801e-01 1.75298321e-01\n",
            "   1.75298321e-01 7.41884053e-02]]]\n"
          ]
        }
      ]
    },
    {
      "cell_type": "code",
      "source": [
        "model=Sequential()\n",
        "\n",
        "model.add(LSTM(10,input_shape=(None,6),activation=\"relu\"))\n",
        "\n",
        "model.add(Dense(6))\n",
        "\n",
        "model.compile(loss=\"mean_squared_error\",optimizer=\"adam\")"
      ],
      "metadata": {
        "id": "NEijzbfulqch"
      },
      "execution_count": null,
      "outputs": []
    },
    {
      "cell_type": "code",
      "source": [
        "history = model.fit(X_train,y_train,validation_data=(X_test,y_test),epochs=100,batch_size=32,verbose=1)"
      ],
      "metadata": {
        "colab": {
          "base_uri": "https://localhost:8080/"
        },
        "id": "jjk2e4u_ltfs",
        "outputId": "c264c473-d11d-4816-afcb-ff2fed25f1d7"
      },
      "execution_count": null,
      "outputs": [
        {
          "output_type": "stream",
          "name": "stdout",
          "text": [
            "Epoch 1/100\n",
            "68/68 [==============================] - 3s 13ms/step - loss: 0.0028 - val_loss: 0.2552\n",
            "Epoch 2/100\n",
            "68/68 [==============================] - 1s 9ms/step - loss: 6.1171e-04 - val_loss: 20.2711\n",
            "Epoch 3/100\n",
            "68/68 [==============================] - 1s 8ms/step - loss: 2.1011e-04 - val_loss: 4.5225\n",
            "Epoch 4/100\n",
            "68/68 [==============================] - 1s 9ms/step - loss: 1.6623e-04 - val_loss: 1.4652\n",
            "Epoch 5/100\n",
            "68/68 [==============================] - 1s 10ms/step - loss: 1.4327e-04 - val_loss: 0.4317\n",
            "Epoch 6/100\n",
            "68/68 [==============================] - 1s 14ms/step - loss: 1.2691e-04 - val_loss: 0.2406\n",
            "Epoch 7/100\n",
            "68/68 [==============================] - 1s 13ms/step - loss: 1.1584e-04 - val_loss: 0.1246\n",
            "Epoch 8/100\n",
            "68/68 [==============================] - 1s 13ms/step - loss: 1.0230e-04 - val_loss: 0.0766\n",
            "Epoch 9/100\n",
            "68/68 [==============================] - 1s 9ms/step - loss: 9.0280e-05 - val_loss: 0.0598\n",
            "Epoch 10/100\n",
            "68/68 [==============================] - 1s 10ms/step - loss: 7.7987e-05 - val_loss: 0.0494\n",
            "Epoch 11/100\n",
            "68/68 [==============================] - 1s 10ms/step - loss: 6.3940e-05 - val_loss: 0.0300\n",
            "Epoch 12/100\n",
            "68/68 [==============================] - 1s 9ms/step - loss: 5.4831e-05 - val_loss: 0.0179\n",
            "Epoch 13/100\n",
            "68/68 [==============================] - 1s 9ms/step - loss: 5.1018e-05 - val_loss: 0.0143\n",
            "Epoch 14/100\n",
            "68/68 [==============================] - 1s 9ms/step - loss: 4.7563e-05 - val_loss: 0.0109\n",
            "Epoch 15/100\n",
            "68/68 [==============================] - 1s 10ms/step - loss: 4.6568e-05 - val_loss: 0.0089\n",
            "Epoch 16/100\n",
            "68/68 [==============================] - 1s 9ms/step - loss: 4.4539e-05 - val_loss: 0.0069\n",
            "Epoch 17/100\n",
            "68/68 [==============================] - 1s 9ms/step - loss: 4.4870e-05 - val_loss: 0.0054\n",
            "Epoch 18/100\n",
            "68/68 [==============================] - 1s 9ms/step - loss: 4.3187e-05 - val_loss: 0.0049\n",
            "Epoch 19/100\n",
            "68/68 [==============================] - 1s 9ms/step - loss: 4.1964e-05 - val_loss: 0.0049\n",
            "Epoch 20/100\n",
            "68/68 [==============================] - 1s 9ms/step - loss: 4.2239e-05 - val_loss: 0.0041\n",
            "Epoch 21/100\n",
            "68/68 [==============================] - 1s 10ms/step - loss: 4.0921e-05 - val_loss: 0.0042\n",
            "Epoch 22/100\n",
            "68/68 [==============================] - 1s 9ms/step - loss: 3.9993e-05 - val_loss: 0.0038\n",
            "Epoch 23/100\n",
            "68/68 [==============================] - 1s 10ms/step - loss: 3.9800e-05 - val_loss: 0.0040\n",
            "Epoch 24/100\n",
            "68/68 [==============================] - 1s 10ms/step - loss: 3.8652e-05 - val_loss: 0.0039\n",
            "Epoch 25/100\n",
            "68/68 [==============================] - 1s 14ms/step - loss: 3.7823e-05 - val_loss: 0.0040\n",
            "Epoch 26/100\n",
            "68/68 [==============================] - 1s 14ms/step - loss: 3.8447e-05 - val_loss: 0.0039\n",
            "Epoch 27/100\n",
            "68/68 [==============================] - 1s 14ms/step - loss: 3.7559e-05 - val_loss: 0.0043\n",
            "Epoch 28/100\n",
            "68/68 [==============================] - 1s 9ms/step - loss: 3.7219e-05 - val_loss: 0.0041\n",
            "Epoch 29/100\n",
            "68/68 [==============================] - 1s 10ms/step - loss: 3.6423e-05 - val_loss: 0.0039\n",
            "Epoch 30/100\n",
            "68/68 [==============================] - 1s 9ms/step - loss: 3.6488e-05 - val_loss: 0.0043\n",
            "Epoch 31/100\n",
            "68/68 [==============================] - 1s 10ms/step - loss: 3.4925e-05 - val_loss: 0.0041\n",
            "Epoch 32/100\n",
            "68/68 [==============================] - 1s 9ms/step - loss: 3.4769e-05 - val_loss: 0.0045\n",
            "Epoch 33/100\n",
            "68/68 [==============================] - 1s 10ms/step - loss: 3.4146e-05 - val_loss: 0.0040\n",
            "Epoch 34/100\n",
            "68/68 [==============================] - 1s 11ms/step - loss: 3.4211e-05 - val_loss: 0.0043\n",
            "Epoch 35/100\n",
            "68/68 [==============================] - 1s 11ms/step - loss: 3.3736e-05 - val_loss: 0.0043\n",
            "Epoch 36/100\n",
            "68/68 [==============================] - 1s 9ms/step - loss: 3.2933e-05 - val_loss: 0.0049\n",
            "Epoch 37/100\n",
            "68/68 [==============================] - 1s 10ms/step - loss: 3.3144e-05 - val_loss: 0.0044\n",
            "Epoch 38/100\n",
            "68/68 [==============================] - 1s 9ms/step - loss: 3.3042e-05 - val_loss: 0.0045\n",
            "Epoch 39/100\n",
            "68/68 [==============================] - 1s 9ms/step - loss: 3.2317e-05 - val_loss: 0.0047\n",
            "Epoch 40/100\n",
            "68/68 [==============================] - 1s 9ms/step - loss: 3.2953e-05 - val_loss: 0.0048\n",
            "Epoch 41/100\n",
            "68/68 [==============================] - 1s 9ms/step - loss: 3.1291e-05 - val_loss: 0.0047\n",
            "Epoch 42/100\n",
            "68/68 [==============================] - 1s 9ms/step - loss: 3.2307e-05 - val_loss: 0.0048\n",
            "Epoch 43/100\n",
            "68/68 [==============================] - 1s 11ms/step - loss: 3.0943e-05 - val_loss: 0.0049\n",
            "Epoch 44/100\n",
            "68/68 [==============================] - 1s 13ms/step - loss: 3.0688e-05 - val_loss: 0.0053\n",
            "Epoch 45/100\n",
            "68/68 [==============================] - 1s 13ms/step - loss: 3.1256e-05 - val_loss: 0.0049\n",
            "Epoch 46/100\n",
            "68/68 [==============================] - 1s 12ms/step - loss: 3.0736e-05 - val_loss: 0.0051\n",
            "Epoch 47/100\n",
            "68/68 [==============================] - 1s 11ms/step - loss: 2.9684e-05 - val_loss: 0.0052\n",
            "Epoch 48/100\n",
            "68/68 [==============================] - 1s 10ms/step - loss: 2.9924e-05 - val_loss: 0.0051\n",
            "Epoch 49/100\n",
            "68/68 [==============================] - 1s 9ms/step - loss: 3.0100e-05 - val_loss: 0.0055\n",
            "Epoch 50/100\n",
            "68/68 [==============================] - 1s 10ms/step - loss: 2.8703e-05 - val_loss: 0.0055\n",
            "Epoch 51/100\n",
            "68/68 [==============================] - 1s 9ms/step - loss: 2.8928e-05 - val_loss: 0.0051\n",
            "Epoch 52/100\n",
            "68/68 [==============================] - 1s 9ms/step - loss: 2.8691e-05 - val_loss: 0.0052\n",
            "Epoch 53/100\n",
            "68/68 [==============================] - 1s 9ms/step - loss: 2.8973e-05 - val_loss: 0.0051\n",
            "Epoch 54/100\n",
            "68/68 [==============================] - 1s 9ms/step - loss: 2.8408e-05 - val_loss: 0.0053\n",
            "Epoch 55/100\n",
            "68/68 [==============================] - 1s 10ms/step - loss: 2.7558e-05 - val_loss: 0.0051\n",
            "Epoch 56/100\n",
            "68/68 [==============================] - 1s 17ms/step - loss: 2.7921e-05 - val_loss: 0.0051\n",
            "Epoch 57/100\n",
            "68/68 [==============================] - 1s 11ms/step - loss: 2.7398e-05 - val_loss: 0.0045\n",
            "Epoch 58/100\n",
            "68/68 [==============================] - 1s 9ms/step - loss: 2.7997e-05 - val_loss: 0.0048\n",
            "Epoch 59/100\n",
            "68/68 [==============================] - 1s 10ms/step - loss: 2.7332e-05 - val_loss: 0.0047\n",
            "Epoch 60/100\n",
            "68/68 [==============================] - 1s 10ms/step - loss: 2.7351e-05 - val_loss: 0.0051\n",
            "Epoch 61/100\n",
            "68/68 [==============================] - 1s 13ms/step - loss: 2.6530e-05 - val_loss: 0.0048\n",
            "Epoch 62/100\n",
            "68/68 [==============================] - 1s 14ms/step - loss: 2.6327e-05 - val_loss: 0.0049\n",
            "Epoch 63/100\n",
            "68/68 [==============================] - 1s 14ms/step - loss: 2.7056e-05 - val_loss: 0.0051\n",
            "Epoch 64/100\n",
            "68/68 [==============================] - 1s 10ms/step - loss: 2.7147e-05 - val_loss: 0.0050\n",
            "Epoch 65/100\n",
            "68/68 [==============================] - 1s 9ms/step - loss: 2.6297e-05 - val_loss: 0.0050\n",
            "Epoch 66/100\n",
            "68/68 [==============================] - 1s 10ms/step - loss: 2.5983e-05 - val_loss: 0.0049\n",
            "Epoch 67/100\n",
            "68/68 [==============================] - 1s 11ms/step - loss: 2.7766e-05 - val_loss: 0.0050\n",
            "Epoch 68/100\n",
            "68/68 [==============================] - 1s 9ms/step - loss: 2.6412e-05 - val_loss: 0.0049\n",
            "Epoch 69/100\n",
            "68/68 [==============================] - 1s 10ms/step - loss: 2.5719e-05 - val_loss: 0.0048\n",
            "Epoch 70/100\n",
            "68/68 [==============================] - 1s 9ms/step - loss: 2.5744e-05 - val_loss: 0.0052\n",
            "Epoch 71/100\n",
            "68/68 [==============================] - 1s 9ms/step - loss: 2.5383e-05 - val_loss: 0.0054\n",
            "Epoch 72/100\n",
            "68/68 [==============================] - 1s 9ms/step - loss: 2.6293e-05 - val_loss: 0.0052\n",
            "Epoch 73/100\n",
            "68/68 [==============================] - 1s 10ms/step - loss: 2.5007e-05 - val_loss: 0.0049\n",
            "Epoch 74/100\n",
            "68/68 [==============================] - 1s 10ms/step - loss: 2.5283e-05 - val_loss: 0.0055\n",
            "Epoch 75/100\n",
            "68/68 [==============================] - 1s 10ms/step - loss: 2.5905e-05 - val_loss: 0.0049\n",
            "Epoch 76/100\n",
            "68/68 [==============================] - 1s 9ms/step - loss: 2.5009e-05 - val_loss: 0.0050\n",
            "Epoch 77/100\n",
            "68/68 [==============================] - 1s 10ms/step - loss: 2.4807e-05 - val_loss: 0.0049\n",
            "Epoch 78/100\n",
            "68/68 [==============================] - 1s 9ms/step - loss: 2.5173e-05 - val_loss: 0.0048\n",
            "Epoch 79/100\n",
            "68/68 [==============================] - 1s 11ms/step - loss: 2.5267e-05 - val_loss: 0.0051\n",
            "Epoch 80/100\n",
            "68/68 [==============================] - 1s 13ms/step - loss: 2.5607e-05 - val_loss: 0.0047\n",
            "Epoch 81/100\n",
            "68/68 [==============================] - 1s 16ms/step - loss: 2.4770e-05 - val_loss: 0.0051\n",
            "Epoch 82/100\n",
            "68/68 [==============================] - 1s 12ms/step - loss: 2.4400e-05 - val_loss: 0.0049\n",
            "Epoch 83/100\n",
            "68/68 [==============================] - 1s 10ms/step - loss: 2.4747e-05 - val_loss: 0.0054\n",
            "Epoch 84/100\n",
            "68/68 [==============================] - 1s 10ms/step - loss: 2.4869e-05 - val_loss: 0.0055\n",
            "Epoch 85/100\n",
            "68/68 [==============================] - 1s 10ms/step - loss: 2.3895e-05 - val_loss: 0.0050\n",
            "Epoch 86/100\n",
            "68/68 [==============================] - 1s 9ms/step - loss: 2.4644e-05 - val_loss: 0.0048\n",
            "Epoch 87/100\n",
            "68/68 [==============================] - 1s 9ms/step - loss: 2.3917e-05 - val_loss: 0.0051\n",
            "Epoch 88/100\n",
            "68/68 [==============================] - 1s 10ms/step - loss: 2.3501e-05 - val_loss: 0.0052\n",
            "Epoch 89/100\n",
            "68/68 [==============================] - 1s 10ms/step - loss: 2.4318e-05 - val_loss: 0.0051\n",
            "Epoch 90/100\n",
            "68/68 [==============================] - 1s 9ms/step - loss: 2.4310e-05 - val_loss: 0.0052\n",
            "Epoch 91/100\n",
            "68/68 [==============================] - 1s 9ms/step - loss: 2.3253e-05 - val_loss: 0.0052\n",
            "Epoch 92/100\n",
            "68/68 [==============================] - 1s 18ms/step - loss: 2.3759e-05 - val_loss: 0.0053\n",
            "Epoch 93/100\n",
            "68/68 [==============================] - 1s 9ms/step - loss: 2.3026e-05 - val_loss: 0.0056\n",
            "Epoch 94/100\n",
            "68/68 [==============================] - 1s 9ms/step - loss: 2.3995e-05 - val_loss: 0.0053\n",
            "Epoch 95/100\n",
            "68/68 [==============================] - 1s 9ms/step - loss: 2.4514e-05 - val_loss: 0.0053\n",
            "Epoch 96/100\n",
            "68/68 [==============================] - 1s 9ms/step - loss: 2.3604e-05 - val_loss: 0.0055\n",
            "Epoch 97/100\n",
            "68/68 [==============================] - 1s 12ms/step - loss: 2.3602e-05 - val_loss: 0.0054\n",
            "Epoch 98/100\n",
            "68/68 [==============================] - 1s 13ms/step - loss: 2.3301e-05 - val_loss: 0.0052\n",
            "Epoch 99/100\n",
            "68/68 [==============================] - 1s 13ms/step - loss: 2.3114e-05 - val_loss: 0.0054\n",
            "Epoch 100/100\n",
            "68/68 [==============================] - 1s 12ms/step - loss: 2.4261e-05 - val_loss: 0.0057\n"
          ]
        }
      ]
    },
    {
      "cell_type": "code",
      "source": [
        "import matplotlib.pyplot as plt\n",
        "\n",
        "loss = history.history['loss']\n",
        "val_loss = history.history['val_loss']\n",
        "\n",
        "epochs = range(len(loss))\n",
        "\n",
        "plt.plot(epochs, loss, 'r', label='Training loss')\n",
        "plt.plot(epochs, val_loss, 'b', label='Validation loss')\n",
        "plt.title('Training and validation loss')\n",
        "plt.legend(loc=0)\n",
        "plt.figure()\n",
        "\n",
        "\n",
        "plt.show()\n",
        "#Потери при обучение в сравнении с потерями при проверке"
      ],
      "metadata": {
        "colab": {
          "base_uri": "https://localhost:8080/",
          "height": 474
        },
        "id": "N2TzA4_El8Sq",
        "outputId": "e44355ac-6449-4982-c457-c6e43d9f6213"
      },
      "execution_count": null,
      "outputs": [
        {
          "output_type": "display_data",
          "data": {
            "text/plain": [
              "<Figure size 640x480 with 1 Axes>"
            ],
            "image/png": "[encoded data removed]"
          },
          "metadata": {}
        },
        {
          "output_type": "display_data",
          "data": {
            "text/plain": [
              "<Figure size 640x480 with 0 Axes>"
            ]
          },
          "metadata": {}
        }
      ]
    },
    {
      "cell_type": "code",
      "source": [
        "### Lets Do the prediction and check performance metrics\n",
        "train_predict=model.predict(X_train)\n",
        "test_predict=model.predict(X_test)\n",
        "train_predict.shape, test_predict.shape"
      ],
      "metadata": {
        "colab": {
          "base_uri": "https://localhost:8080/"
        },
        "id": "meadWHKzmTgz",
        "outputId": "13d7b9da-8120-4def-910d-62fc68a4c9a2"
      },
      "execution_count": null,
      "outputs": [
        {
          "output_type": "stream",
          "name": "stdout",
          "text": [
            "68/68 [==============================] - 0s 3ms/step\n",
            "29/29 [==============================] - 0s 3ms/step\n"
          ]
        },
        {
          "output_type": "execute_result",
          "data": {
            "text/plain": [
              "((2149, 6), (912, 6))"
            ]
          },
          "metadata": {},
          "execution_count": 17
        }
      ]
    },
    {
      "cell_type": "markdown",
      "source": [
        "# Оценка модели"
      ],
      "metadata": {
        "id": "IGoxn-AUmge5"
      }
    },
    {
      "cell_type": "code",
      "source": [
        "# Transform back to original form\n",
        "\n",
        "train_predict = scaler.inverse_transform(train_predict)\n",
        "test_predict = scaler.inverse_transform(test_predict)\n",
        "original_ytrain = scaler.inverse_transform(y_train.reshape(-1,6)) \n",
        "original_ytest = scaler.inverse_transform(y_test.reshape(-1,6)) "
      ],
      "metadata": {
        "id": "bM8dMFa6ma9P"
      },
      "execution_count": null,
      "outputs": []
    },
    {
      "cell_type": "code",
      "source": [
        "pd.DataFrame(test_predict, columns=df.columns, index=df.index[training_size+16:len(df1)])"
      ],
      "metadata": {
        "colab": {
          "base_uri": "https://localhost:8080/",
          "height": 455
        },
        "id": "77kFf5GvO-E-",
        "outputId": "15f02d06-027e-4d11-b116-4523adecd2b1"
      },
      "execution_count": null,
      "outputs": [
        {
          "output_type": "execute_result",
          "data": {
            "text/plain": [
              "                    Open          High           Low         Close  \\\n",
              "Date                                                                 \n",
              "2020-09-06  10608.793945  10777.943359   9995.237305  10226.587891   \n",
              "2020-09-07  10423.482422  10544.834961   9701.482422   9859.039062   \n",
              "2020-09-08  10231.861328  10383.262695   9671.049805   9858.078125   \n",
              "2020-09-09  10223.877930  10384.535156   9789.058594   9895.951172   \n",
              "2020-09-10  10161.802734  10323.978516   9760.556641   9817.319336   \n",
              "...                  ...           ...           ...           ...   \n",
              "2023-03-02  22897.523438  23552.574219  21015.167969  22213.041016   \n",
              "2023-03-03  23194.582031  23880.351562  21333.830078  22499.792969   \n",
              "2023-03-04  23130.531250  23813.771484  21237.234375  22458.375000   \n",
              "2023-03-05  22477.500000  23083.542969  20392.792969  21645.025391   \n",
              "2023-03-06  21884.912109  22508.968750  20154.423828  21431.294922   \n",
              "\n",
              "               Adj Close        Volume  \n",
              "Date                                    \n",
              "2020-09-06  10406.135742  2.863345e+10  \n",
              "2020-09-07  10111.073242  3.516377e+10  \n",
              "2020-09-08  10033.304688  3.532256e+10  \n",
              "2020-09-09  10043.806641  3.413843e+10  \n",
              "2020-09-10   9969.495117  3.362816e+10  \n",
              "...                  ...           ...  \n",
              "2023-03-02  22266.537109  2.157188e+10  \n",
              "2023-03-03  22517.687500  2.312573e+10  \n",
              "2023-03-04  22472.203125  2.207593e+10  \n",
              "2023-03-05  21778.560547  2.441785e+10  \n",
              "2023-03-06  21469.523438  1.852140e+10  \n",
              "\n",
              "[912 rows x 6 columns]"
            ],
            "text/html": [
              "\n",
              "  <div id=\"df-7d73f157-86bd-49f4-9463-9508a2770062\">\n",
              "    <div class=\"colab-df-container\">\n",
              "      <div>\n",
              "<style scoped>\n",
              "    .dataframe tbody tr th:only-of-type {\n",
              "        vertical-align: middle;\n",
              "    }\n",
              "\n",
              "    .dataframe tbody tr th {\n",
              "        vertical-align: top;\n",
              "    }\n",
              "\n",
              "    .dataframe thead th {\n",
              "        text-align: right;\n",
              "    }\n",
              "</style>\n",
              "<table border=\"1\" class=\"dataframe\">\n",
              "  <thead>\n",
              "    <tr style=\"text-align: right;\">\n",
              "      <th></th>\n",
              "      <th>Open</th>\n",
              "      <th>High</th>\n",
              "      <th>Low</th>\n",
              "      <th>Close</th>\n",
              "      <th>Adj Close</th>\n",
              "      <th>Volume</th>\n",
              "    </tr>\n",
              "    <tr>\n",
              "      <th>Date</th>\n",
              "      <th></th>\n",
              "      <th></th>\n",
              "      <th></th>\n",
              "      <th></th>\n",
              "      <th></th>\n",
              "      <th></th>\n",
              "    </tr>\n",
              "  </thead>\n",
              "  <tbody>\n",
              "    <tr>\n",
              "      <th>2020-09-06</th>\n",
              "      <td>10608.793945</td>\n",
              "      <td>10777.943359</td>\n",
              "      <td>9995.237305</td>\n",
              "      <td>10226.587891</td>\n",
              "      <td>10406.135742</td>\n",
              "      <td>2.863345e+10</td>\n",
              "    </tr>\n",
              "    <tr>\n",
              "      <th>2020-09-07</th>\n",
              "      <td>10423.482422</td>\n",
              "      <td>10544.834961</td>\n",
              "      <td>9701.482422</td>\n",
              "      <td>9859.039062</td>\n",
              "      <td>10111.073242</td>\n",
              "      <td>3.516377e+10</td>\n",
              "    </tr>\n",
              "    <tr>\n",
              "      <th>2020-09-08</th>\n",
              "      <td>10231.861328</td>\n",
              "      <td>10383.262695</td>\n",
              "      <td>9671.049805</td>\n",
              "      <td>9858.078125</td>\n",
              "      <td>10033.304688</td>\n",
              "      <td>3.532256e+10</td>\n",
              "    </tr>\n",
              "    <tr>\n",
              "      <th>2020-09-09</th>\n",
              "      <td>10223.877930</td>\n",
              "      <td>10384.535156</td>\n",
              "      <td>9789.058594</td>\n",
              "      <td>9895.951172</td>\n",
              "      <td>10043.806641</td>\n",
              "      <td>3.413843e+10</td>\n",
              "    </tr>\n",
              "    <tr>\n",
              "      <th>2020-09-10</th>\n",
              "      <td>10161.802734</td>\n",
              "      <td>10323.978516</td>\n",
              "      <td>9760.556641</td>\n",
              "      <td>9817.319336</td>\n",
              "      <td>9969.495117</td>\n",
              "      <td>3.362816e+10</td>\n",
              "    </tr>\n",
              "    <tr>\n",
              "      <th>...</th>\n",
              "      <td>...</td>\n",
              "      <td>...</td>\n",
              "      <td>...</td>\n",
              "      <td>...</td>\n",
              "      <td>...</td>\n",
              "      <td>...</td>\n",
              "    </tr>\n",
              "    <tr>\n",
              "      <th>2023-03-02</th>\n",
              "      <td>22897.523438</td>\n",
              "      <td>23552.574219</td>\n",
              "      <td>21015.167969</td>\n",
              "      <td>22213.041016</td>\n",
              "      <td>22266.537109</td>\n",
              "      <td>2.157188e+10</td>\n",
              "    </tr>\n",
              "    <tr>\n",
              "      <th>2023-03-03</th>\n",
              "      <td>23194.582031</td>\n",
              "      <td>23880.351562</td>\n",
              "      <td>21333.830078</td>\n",
              "      <td>22499.792969</td>\n",
              "      <td>22517.687500</td>\n",
              "      <td>2.312573e+10</td>\n",
              "    </tr>\n",
              "    <tr>\n",
              "      <th>2023-03-04</th>\n",
              "      <td>23130.531250</td>\n",
              "      <td>23813.771484</td>\n",
              "      <td>21237.234375</td>\n",
              "      <td>22458.375000</td>\n",
              "      <td>22472.203125</td>\n",
              "      <td>2.207593e+10</td>\n",
              "    </tr>\n",
              "    <tr>\n",
              "      <th>2023-03-05</th>\n",
              "      <td>22477.500000</td>\n",
              "      <td>23083.542969</td>\n",
              "      <td>20392.792969</td>\n",
              "      <td>21645.025391</td>\n",
              "      <td>21778.560547</td>\n",
              "      <td>2.441785e+10</td>\n",
              "    </tr>\n",
              "    <tr>\n",
              "      <th>2023-03-06</th>\n",
              "      <td>21884.912109</td>\n",
              "      <td>22508.968750</td>\n",
              "      <td>20154.423828</td>\n",
              "      <td>21431.294922</td>\n",
              "      <td>21469.523438</td>\n",
              "      <td>1.852140e+10</td>\n",
              "    </tr>\n",
              "  </tbody>\n",
              "</table>\n",
              "<p>912 rows × 6 columns</p>\n",
              "</div>\n",
              "      <button class=\"colab-df-convert\" onclick=\"convertToInteractive('df-7d73f157-86bd-49f4-9463-9508a2770062')\"\n",
              "              title=\"Convert this dataframe to an interactive table.\"\n",
              "              style=\"display:none;\">\n",
              "        \n",
              "  <svg xmlns=\"http://www.w3.org/2000/svg\" height=\"24px\"viewBox=\"0 0 24 24\"\n",
              "       width=\"24px\">\n",
              "    <path d=\"M0 0h24v24H0V0z\" fill=\"none\"/>\n",
              "    <path d=\"M18.56 5.44l.94 2.06.94-2.06 2.06-.94-2.06-.94-.94-2.06-.94 2.06-2.06.94zm-11 1L8.5 8.5l.94-2.06 2.06-.94-2.06-.94L8.5 2.5l-.94 2.06-2.06.94zm10 10l.94 2.06.94-2.06 2.06-.94-2.06-.94-.94-2.06-.94 2.06-2.06.94z\"/><path d=\"M17.41 7.96l-1.37-1.37c-.4-.4-.92-.59-1.43-.59-.52 0-1.04.2-1.43.59L10.3 9.45l-7.72 7.72c-.78.78-.78 2.05 0 2.83L4 21.41c.39.39.9.59 1.41.59.51 0 1.02-.2 1.41-.59l7.78-7.78 2.81-2.81c.8-.78.8-2.07 0-2.86zM5.41 20L4 18.59l7.72-7.72 1.47 1.35L5.41 20z\"/>\n",
              "  </svg>\n",
              "      </button>\n",
              "      \n",
              "  <style>\n",
              "    .colab-df-container {\n",
              "      display:flex;\n",
              "      flex-wrap:wrap;\n",
              "      gap: 12px;\n",
              "    }\n",
              "\n",
              "    .colab-df-convert {\n",
              "      background-color: #E8F0FE;\n",
              "      border: none;\n",
              "      border-radius: 50%;\n",
              "      cursor: pointer;\n",
              "      display: none;\n",
              "      fill: #1967D2;\n",
              "      height: 32px;\n",
              "      padding: 0 0 0 0;\n",
              "      width: 32px;\n",
              "    }\n",
              "\n",
              "    .colab-df-convert:hover {\n",
              "      background-color: #E2EBFA;\n",
              "      box-shadow: 0px 1px 2px rgba(60, 64, 67, 0.3), 0px 1px 3px 1px rgba(60, 64, 67, 0.15);\n",
              "      fill: #174EA6;\n",
              "    }\n",
              "\n",
              "    [theme=dark] .colab-df-convert {\n",
              "      background-color: #3B4455;\n",
              "      fill: #D2E3FC;\n",
              "    }\n",
              "\n",
              "    [theme=dark] .colab-df-convert:hover {\n",
              "      background-color: #434B5C;\n",
              "      box-shadow: 0px 1px 3px 1px rgba(0, 0, 0, 0.15);\n",
              "      filter: drop-shadow(0px 1px 2px rgba(0, 0, 0, 0.3));\n",
              "      fill: #FFFFFF;\n",
              "    }\n",
              "  </style>\n",
              "\n",
              "      <script>\n",
              "        const buttonEl =\n",
              "          document.querySelector('#df-7d73f157-86bd-49f4-9463-9508a2770062 button.colab-df-convert');\n",
              "        buttonEl.style.display =\n",
              "          google.colab.kernel.accessAllowed ? 'block' : 'none';\n",
              "\n",
              "        async function convertToInteractive(key) {\n",
              "          const element = document.querySelector('#df-7d73f157-86bd-49f4-9463-9508a2770062');\n",
              "          const dataTable =\n",
              "            await google.colab.kernel.invokeFunction('convertToInteractive',\n",
              "                                                     [key], {});\n",
              "          if (!dataTable) return;\n",
              "\n",
              "          const docLinkHtml = 'Like what you see? Visit the ' +\n",
              "            '<a target=\"_blank\" href=https://colab.research.google.com/notebooks/data_table.ipynb>data table notebook</a>'\n",
              "            + ' to learn more about interactive tables.';\n",
              "          element.innerHTML = '';\n",
              "          dataTable['output_type'] = 'display_data';\n",
              "          await google.colab.output.renderOutput(dataTable, element);\n",
              "          const docLink = document.createElement('div');\n",
              "          docLink.innerHTML = docLinkHtml;\n",
              "          element.appendChild(docLink);\n",
              "        }\n",
              "      </script>\n",
              "    </div>\n",
              "  </div>\n",
              "  "
            ]
          },
          "metadata": {},
          "execution_count": 21
        }
      ]
    },
    {
      "cell_type": "code",
      "source": [
        "df[training_size+16:len(df1)]"
      ],
      "metadata": {
        "colab": {
          "base_uri": "https://localhost:8080/",
          "height": 455
        },
        "id": "N6oTe8PcTPe4",
        "outputId": "a3a57792-c949-4dbd-f472-cec0f5ec42f7"
      },
      "execution_count": null,
      "outputs": [
        {
          "output_type": "execute_result",
          "data": {
            "text/plain": [
              "                    Open          High           Low         Close  \\\n",
              "Date                                                                 \n",
              "2020-09-06  10167.216797  10353.927734  10056.885742  10280.351563   \n",
              "2020-09-07  10280.998047  10399.153320   9916.493164  10369.563477   \n",
              "2020-09-08  10369.306641  10414.775391   9945.110352  10131.516602   \n",
              "2020-09-09  10134.151367  10350.542969  10017.250977  10242.347656   \n",
              "2020-09-10  10242.330078  10503.912109  10238.135742  10363.138672   \n",
              "...                  ...           ...           ...           ...   \n",
              "2023-03-02  23647.019531  23739.138672  23245.021484  23475.466797   \n",
              "2023-03-03  23476.632813  23479.347656  22213.238281  22362.679688   \n",
              "2023-03-04  22362.923828  22405.177734  22198.980469  22353.349609   \n",
              "2023-03-05  22354.144531  22613.685547  22307.142578  22435.513672   \n",
              "2023-03-06  22437.501953  22582.638672  22337.716797  22439.064453   \n",
              "\n",
              "               Adj Close       Volume  \n",
              "Date                                   \n",
              "2020-09-06  10280.351563  37071460174  \n",
              "2020-09-07  10369.563477  33703098409  \n",
              "2020-09-08  10131.516602  33430927462  \n",
              "2020-09-09  10242.347656  24128292755  \n",
              "2020-09-10  10363.138672  54406443211  \n",
              "...                  ...          ...  \n",
              "2023-03-02  23475.466797  20386398516  \n",
              "2023-03-03  22362.679688  26062404610  \n",
              "2023-03-04  22353.349609  11166012913  \n",
              "2023-03-05  22435.513672  13317001733  \n",
              "2023-03-06  22439.064453  17464545280  \n",
              "\n",
              "[912 rows x 6 columns]"
            ],
            "text/html": [
              "\n",
              "  <div id=\"df-f0ef74f4-253a-48e9-9b9e-750cb979a57e\">\n",
              "    <div class=\"colab-df-container\">\n",
              "      <div>\n",
              "<style scoped>\n",
              "    .dataframe tbody tr th:only-of-type {\n",
              "        vertical-align: middle;\n",
              "    }\n",
              "\n",
              "    .dataframe tbody tr th {\n",
              "        vertical-align: top;\n",
              "    }\n",
              "\n",
              "    .dataframe thead th {\n",
              "        text-align: right;\n",
              "    }\n",
              "</style>\n",
              "<table border=\"1\" class=\"dataframe\">\n",
              "  <thead>\n",
              "    <tr style=\"text-align: right;\">\n",
              "      <th></th>\n",
              "      <th>Open</th>\n",
              "      <th>High</th>\n",
              "      <th>Low</th>\n",
              "      <th>Close</th>\n",
              "      <th>Adj Close</th>\n",
              "      <th>Volume</th>\n",
              "    </tr>\n",
              "    <tr>\n",
              "      <th>Date</th>\n",
              "      <th></th>\n",
              "      <th></th>\n",
              "      <th></th>\n",
              "      <th></th>\n",
              "      <th></th>\n",
              "      <th></th>\n",
              "    </tr>\n",
              "  </thead>\n",
              "  <tbody>\n",
              "    <tr>\n",
              "      <th>2020-09-06</th>\n",
              "      <td>10167.216797</td>\n",
              "      <td>10353.927734</td>\n",
              "      <td>10056.885742</td>\n",
              "      <td>10280.351563</td>\n",
              "      <td>10280.351563</td>\n",
              "      <td>37071460174</td>\n",
              "    </tr>\n",
              "    <tr>\n",
              "      <th>2020-09-07</th>\n",
              "      <td>10280.998047</td>\n",
              "      <td>10399.153320</td>\n",
              "      <td>9916.493164</td>\n",
              "      <td>10369.563477</td>\n",
              "      <td>10369.563477</td>\n",
              "      <td>33703098409</td>\n",
              "    </tr>\n",
              "    <tr>\n",
              "      <th>2020-09-08</th>\n",
              "      <td>10369.306641</td>\n",
              "      <td>10414.775391</td>\n",
              "      <td>9945.110352</td>\n",
              "      <td>10131.516602</td>\n",
              "      <td>10131.516602</td>\n",
              "      <td>33430927462</td>\n",
              "    </tr>\n",
              "    <tr>\n",
              "      <th>2020-09-09</th>\n",
              "      <td>10134.151367</td>\n",
              "      <td>10350.542969</td>\n",
              "      <td>10017.250977</td>\n",
              "      <td>10242.347656</td>\n",
              "      <td>10242.347656</td>\n",
              "      <td>24128292755</td>\n",
              "    </tr>\n",
              "    <tr>\n",
              "      <th>2020-09-10</th>\n",
              "      <td>10242.330078</td>\n",
              "      <td>10503.912109</td>\n",
              "      <td>10238.135742</td>\n",
              "      <td>10363.138672</td>\n",
              "      <td>10363.138672</td>\n",
              "      <td>54406443211</td>\n",
              "    </tr>\n",
              "    <tr>\n",
              "      <th>...</th>\n",
              "      <td>...</td>\n",
              "      <td>...</td>\n",
              "      <td>...</td>\n",
              "      <td>...</td>\n",
              "      <td>...</td>\n",
              "      <td>...</td>\n",
              "    </tr>\n",
              "    <tr>\n",
              "      <th>2023-03-02</th>\n",
              "      <td>23647.019531</td>\n",
              "      <td>23739.138672</td>\n",
              "      <td>23245.021484</td>\n",
              "      <td>23475.466797</td>\n",
              "      <td>23475.466797</td>\n",
              "      <td>20386398516</td>\n",
              "    </tr>\n",
              "    <tr>\n",
              "      <th>2023-03-03</th>\n",
              "      <td>23476.632813</td>\n",
              "      <td>23479.347656</td>\n",
              "      <td>22213.238281</td>\n",
              "      <td>22362.679688</td>\n",
              "      <td>22362.679688</td>\n",
              "      <td>26062404610</td>\n",
              "    </tr>\n",
              "    <tr>\n",
              "      <th>2023-03-04</th>\n",
              "      <td>22362.923828</td>\n",
              "      <td>22405.177734</td>\n",
              "      <td>22198.980469</td>\n",
              "      <td>22353.349609</td>\n",
              "      <td>22353.349609</td>\n",
              "      <td>11166012913</td>\n",
              "    </tr>\n",
              "    <tr>\n",
              "      <th>2023-03-05</th>\n",
              "      <td>22354.144531</td>\n",
              "      <td>22613.685547</td>\n",
              "      <td>22307.142578</td>\n",
              "      <td>22435.513672</td>\n",
              "      <td>22435.513672</td>\n",
              "      <td>13317001733</td>\n",
              "    </tr>\n",
              "    <tr>\n",
              "      <th>2023-03-06</th>\n",
              "      <td>22437.501953</td>\n",
              "      <td>22582.638672</td>\n",
              "      <td>22337.716797</td>\n",
              "      <td>22439.064453</td>\n",
              "      <td>22439.064453</td>\n",
              "      <td>17464545280</td>\n",
              "    </tr>\n",
              "  </tbody>\n",
              "</table>\n",
              "<p>912 rows × 6 columns</p>\n",
              "</div>\n",
              "      <button class=\"colab-df-convert\" onclick=\"convertToInteractive('df-f0ef74f4-253a-48e9-9b9e-750cb979a57e')\"\n",
              "              title=\"Convert this dataframe to an interactive table.\"\n",
              "              style=\"display:none;\">\n",
              "        \n",
              "  <svg xmlns=\"http://www.w3.org/2000/svg\" height=\"24px\"viewBox=\"0 0 24 24\"\n",
              "       width=\"24px\">\n",
              "    <path d=\"M0 0h24v24H0V0z\" fill=\"none\"/>\n",
              "    <path d=\"M18.56 5.44l.94 2.06.94-2.06 2.06-.94-2.06-.94-.94-2.06-.94 2.06-2.06.94zm-11 1L8.5 8.5l.94-2.06 2.06-.94-2.06-.94L8.5 2.5l-.94 2.06-2.06.94zm10 10l.94 2.06.94-2.06 2.06-.94-2.06-.94-.94-2.06-.94 2.06-2.06.94z\"/><path d=\"M17.41 7.96l-1.37-1.37c-.4-.4-.92-.59-1.43-.59-.52 0-1.04.2-1.43.59L10.3 9.45l-7.72 7.72c-.78.78-.78 2.05 0 2.83L4 21.41c.39.39.9.59 1.41.59.51 0 1.02-.2 1.41-.59l7.78-7.78 2.81-2.81c.8-.78.8-2.07 0-2.86zM5.41 20L4 18.59l7.72-7.72 1.47 1.35L5.41 20z\"/>\n",
              "  </svg>\n",
              "      </button>\n",
              "      \n",
              "  <style>\n",
              "    .colab-df-container {\n",
              "      display:flex;\n",
              "      flex-wrap:wrap;\n",
              "      gap: 12px;\n",
              "    }\n",
              "\n",
              "    .colab-df-convert {\n",
              "      background-color: #E8F0FE;\n",
              "      border: none;\n",
              "      border-radius: 50%;\n",
              "      cursor: pointer;\n",
              "      display: none;\n",
              "      fill: #1967D2;\n",
              "      height: 32px;\n",
              "      padding: 0 0 0 0;\n",
              "      width: 32px;\n",
              "    }\n",
              "\n",
              "    .colab-df-convert:hover {\n",
              "      background-color: #E2EBFA;\n",
              "      box-shadow: 0px 1px 2px rgba(60, 64, 67, 0.3), 0px 1px 3px 1px rgba(60, 64, 67, 0.15);\n",
              "      fill: #174EA6;\n",
              "    }\n",
              "\n",
              "    [theme=dark] .colab-df-convert {\n",
              "      background-color: #3B4455;\n",
              "      fill: #D2E3FC;\n",
              "    }\n",
              "\n",
              "    [theme=dark] .colab-df-convert:hover {\n",
              "      background-color: #434B5C;\n",
              "      box-shadow: 0px 1px 3px 1px rgba(0, 0, 0, 0.15);\n",
              "      filter: drop-shadow(0px 1px 2px rgba(0, 0, 0, 0.3));\n",
              "      fill: #FFFFFF;\n",
              "    }\n",
              "  </style>\n",
              "\n",
              "      <script>\n",
              "        const buttonEl =\n",
              "          document.querySelector('#df-f0ef74f4-253a-48e9-9b9e-750cb979a57e button.colab-df-convert');\n",
              "        buttonEl.style.display =\n",
              "          google.colab.kernel.accessAllowed ? 'block' : 'none';\n",
              "\n",
              "        async function convertToInteractive(key) {\n",
              "          const element = document.querySelector('#df-f0ef74f4-253a-48e9-9b9e-750cb979a57e');\n",
              "          const dataTable =\n",
              "            await google.colab.kernel.invokeFunction('convertToInteractive',\n",
              "                                                     [key], {});\n",
              "          if (!dataTable) return;\n",
              "\n",
              "          const docLinkHtml = 'Like what you see? Visit the ' +\n",
              "            '<a target=\"_blank\" href=https://colab.research.google.com/notebooks/data_table.ipynb>data table notebook</a>'\n",
              "            + ' to learn more about interactive tables.';\n",
              "          element.innerHTML = '';\n",
              "          dataTable['output_type'] = 'display_data';\n",
              "          await google.colab.output.renderOutput(dataTable, element);\n",
              "          const docLink = document.createElement('div');\n",
              "          docLink.innerHTML = docLinkHtml;\n",
              "          element.appendChild(docLink);\n",
              "        }\n",
              "      </script>\n",
              "    </div>\n",
              "  </div>\n",
              "  "
            ]
          },
          "metadata": {},
          "execution_count": 22
        }
      ]
    },
    {
      "cell_type": "code",
      "source": [
        "print(\"Train data RMSE: \", math.sqrt(mean_squared_error(original_ytrain,train_predict)))\n",
        "print(\"Train data MSE: \", mean_squared_error(original_ytrain,train_predict))\n",
        "print(\"Train data MAE: \", mean_absolute_error(original_ytrain,train_predict))\n",
        "print(\"-------------------------------------------------------------------------------------\")\n",
        "print(\"Test data RMSE: \", math.sqrt(mean_squared_error(original_ytest,test_predict)))\n",
        "print(\"Test data MSE: \", mean_squared_error(original_ytest,test_predict))\n",
        "print(\"Test data MAE: \", mean_absolute_error(original_ytest,test_predict))"
      ],
      "metadata": {
        "colab": {
          "base_uri": "https://localhost:8080/"
        },
        "id": "U9FwQCAbmlSh",
        "outputId": "4555502e-476d-4281-d38a-f683d3101b2d"
      },
      "execution_count": null,
      "outputs": [
        {
          "output_type": "stream",
          "name": "stdout",
          "text": [
            "Train data RMSE:  1062585286.9704316\n",
            "Train data MSE:  1.1290874920860344e+18\n",
            "Train data MAE:  202973482.25332832\n",
            "-------------------------------------------------------------------------------------\n",
            "Test data RMSE:  8644200766.170734\n",
            "Test data MSE:  7.472220688586672e+19\n",
            "Test data MAE:  2356577242.71818\n"
          ]
        }
      ]
    },
    {
      "cell_type": "code",
      "source": [
        "print(\"Train data explained variance regression score:\", \n",
        "      explained_variance_score(original_ytrain[:,1], train_predict[:,1]))\n",
        "print(\"Test data explained variance regression score:\", \n",
        "      explained_variance_score(original_ytest[:,1], test_predict[:,1]))"
      ],
      "metadata": {
        "colab": {
          "base_uri": "https://localhost:8080/"
        },
        "id": "rMOR1ufDmsSX",
        "outputId": "6395e291-1eb0-48aa-ffa6-9c5cf16ff726"
      },
      "execution_count": null,
      "outputs": [
        {
          "output_type": "stream",
          "name": "stdout",
          "text": [
            "Train data explained variance regression score: 0.9964729011483949\n",
            "Test data explained variance regression score: 0.9719307193565985\n"
          ]
        }
      ]
    },
    {
      "cell_type": "code",
      "source": [
        "print(\"Train data MGD: \", mean_gamma_deviance(original_ytrain[:,1], train_predict[:,1]))\n",
        "print(\"Test data MGD: \", mean_gamma_deviance(original_ytest[:,1], test_predict[:,1]))\n",
        "print(\"----------------------------------------------------------------------\")\n",
        "print(\"Train data MPD: \", mean_poisson_deviance(original_ytrain[:,1], train_predict[:,1]))\n",
        "print(\"Test data MPD: \", mean_poisson_deviance(original_ytest[:,1], test_predict[:,1]))"
      ],
      "metadata": {
        "colab": {
          "base_uri": "https://localhost:8080/"
        },
        "id": "iP8oAbBVnJW3",
        "outputId": "7c444f2c-593f-424a-c4ef-352659ed68ea"
      },
      "execution_count": null,
      "outputs": [
        {
          "output_type": "stream",
          "name": "stdout",
          "text": [
            "Train data MGD:  0.009224431679087864\n",
            "Test data MGD:  0.004757876973041412\n",
            "----------------------------------------------------------------------\n",
            "Train data MPD:  9.884278423495031\n",
            "Test data MPD:  223.40777140035445\n"
          ]
        }
      ]
    },
    {
      "cell_type": "code",
      "source": [
        "train_predict[:,1]"
      ],
      "metadata": {
        "colab": {
          "base_uri": "https://localhost:8080/"
        },
        "id": "TRbAbRbfw9Pe",
        "outputId": "9b1f6543-04ef-4ce9-abbd-75f3303c355d"
      },
      "execution_count": null,
      "outputs": [
        {
          "output_type": "execute_result",
          "data": {
            "text/plain": [
              "array([  441.73807,   438.00433,   428.83514, ..., 12173.199  ,\n",
              "       12492.307  , 12461.574  ], dtype=float32)"
            ]
          },
          "metadata": {},
          "execution_count": 31
        }
      ]
    },
    {
      "cell_type": "markdown",
      "source": [
        "# Остальное пока не работает"
      ],
      "metadata": {
        "id": "2btIHCLwUxDE"
      }
    },
    {
      "cell_type": "markdown",
      "source": [
        "## **Сравнение первоначальной цены закрытия акций и прогнозируемой цены закрытия**"
      ],
      "metadata": {
        "id": "tFpYCte-oAuJ"
      }
    },
    {
      "cell_type": "code",
      "source": [
        "!mkdir -p saved_model\n",
        "model.save('saved_model/my_model')"
      ],
      "metadata": {
        "colab": {
          "base_uri": "https://localhost:8080/"
        },
        "id": "AVE1Rc6R0bXT",
        "outputId": "ef38fa1a-4ace-47db-eb0f-284b216aad1b"
      },
      "execution_count": null,
      "outputs": [
        {
          "output_type": "stream",
          "name": "stderr",
          "text": [
            "WARNING:absl:Found untraced functions such as _update_step_xla while saving (showing 1 of 1). These functions will not be directly callable after loading.\n"
          ]
        }
      ]
    },
    {
      "cell_type": "code",
      "source": [
        "model.save('bitcoin/my_model')"
      ],
      "metadata": {
        "colab": {
          "base_uri": "https://localhost:8080/"
        },
        "id": "E7Qvz-Q4z54n",
        "outputId": "924b44ac-9dfe-464d-c187-acd48eccac02"
      },
      "execution_count": null,
      "outputs": [
        {
          "output_type": "stream",
          "name": "stderr",
          "text": [
            "WARNING:absl:Found untraced functions such as _update_step_xla while saving (showing 1 of 1). These functions will not be directly callable after loading.\n"
          ]
        }
      ]
    },
    {
      "cell_type": "code",
      "source": [
        "# shift train predictions for plotting\n",
        "\n",
        "look_back=time_step\n",
        "trainPredictPlot = np.empty_like(df)\n",
        "trainPredictPlot[:, :] = np.nan\n",
        "trainPredictPlot[look_back:len(train_predict)+look_back, :] = train_predict\n",
        "print(\"Train predicted data: \", trainPredictPlot.shape)\n",
        "\n",
        "# shift test predictions for plotting\n",
        "testPredictPlot = np.empty_like(df)\n",
        "testPredictPlot[:, :] = np.nan\n",
        "testPredictPlot[len(train_predict)+(look_back*2)+1:len(df)-1, :] = test_predict\n",
        "print(\"Test predicted data: \", testPredictPlot.shape)\n",
        "\n",
        "names = cycle(['Original close price','Train predicted close price','Test predicted close price'])\n",
        "\n",
        "\n",
        "plotdf = pd.DataFrame({'date': df1.index,\n",
        "                       'original_close': df1['Close'],\n",
        "                      'train_predicted_close': trainPredictPlot.reshape(1,-1)[0].tolist(),\n",
        "                      'test_predicted_close': testPredictPlot.reshape(1,-1)[0].tolist()})\n",
        "\n",
        "fig = px.line(plotdf,x=plotdf['date'], y=[plotdf['original_close'],plotdf['train_predicted_close'],\n",
        "                                          plotdf['test_predicted_close']],\n",
        "              labels={'value':'Stock price','date': 'Date'})\n",
        "fig.update_layout(title_text='Comparision between original close price vs predicted close price',\n",
        "                  plot_bgcolor='white', font_size=15, font_color='black', legend_title_text='Close Price')\n",
        "fig.for_each_trace(lambda t:  t.update(name = next(names)))\n",
        "\n",
        "fig.update_xaxes(showgrid=False)\n",
        "fig.update_yaxes(showgrid=False)\n",
        "fig.show()"
      ],
      "metadata": {
        "colab": {
          "base_uri": "https://localhost:8080/",
          "height": 416
        },
        "id": "6TtJYSjrn0K1",
        "outputId": "ee9c6662-d6f9-4a5a-ea19-159da14ab123"
      },
      "execution_count": null,
      "outputs": [
        {
          "output_type": "stream",
          "name": "stdout",
          "text": [
            "Train predicted data:  (3093, 6)\n",
            "Test predicted data:  (3093, 6)\n"
          ]
        },
        {
          "output_type": "error",
          "ename": "ValueError",
          "evalue": "ignored",
          "traceback": [
            "\u001b[0;31m---------------------------------------------------------------------------\u001b[0m",
            "\u001b[0;31mValueError\u001b[0m                                Traceback (most recent call last)",
            "\u001b[0;32m<ipython-input-33-edc765f0517f>\u001b[0m in \u001b[0;36m<cell line: 18>\u001b[0;34m()\u001b[0m\n\u001b[1;32m     16\u001b[0m \u001b[0;34m\u001b[0m\u001b[0m\n\u001b[1;32m     17\u001b[0m \u001b[0;34m\u001b[0m\u001b[0m\n\u001b[0;32m---> 18\u001b[0;31m plotdf = pd.DataFrame({'date': df1.index,\n\u001b[0m\u001b[1;32m     19\u001b[0m                        \u001b[0;34m'original_close'\u001b[0m\u001b[0;34m:\u001b[0m \u001b[0mdf1\u001b[0m\u001b[0;34m[\u001b[0m\u001b[0;34m'Close'\u001b[0m\u001b[0;34m]\u001b[0m\u001b[0;34m,\u001b[0m\u001b[0;34m\u001b[0m\u001b[0;34m\u001b[0m\u001b[0m\n\u001b[1;32m     20\u001b[0m                       \u001b[0;34m'train_predicted_close'\u001b[0m\u001b[0;34m:\u001b[0m \u001b[0mtrainPredictPlot\u001b[0m\u001b[0;34m.\u001b[0m\u001b[0mreshape\u001b[0m\u001b[0;34m(\u001b[0m\u001b[0;36m1\u001b[0m\u001b[0;34m,\u001b[0m\u001b[0;34m-\u001b[0m\u001b[0;36m1\u001b[0m\u001b[0;34m)\u001b[0m\u001b[0;34m[\u001b[0m\u001b[0;36m0\u001b[0m\u001b[0;34m]\u001b[0m\u001b[0;34m.\u001b[0m\u001b[0mtolist\u001b[0m\u001b[0;34m(\u001b[0m\u001b[0;34m)\u001b[0m\u001b[0;34m,\u001b[0m\u001b[0;34m\u001b[0m\u001b[0;34m\u001b[0m\u001b[0m\n",
            "\u001b[0;32m/usr/local/lib/python3.9/dist-packages/pandas/core/frame.py\u001b[0m in \u001b[0;36m__init__\u001b[0;34m(self, data, index, columns, dtype, copy)\u001b[0m\n\u001b[1;32m    634\u001b[0m         \u001b[0;32melif\u001b[0m \u001b[0misinstance\u001b[0m\u001b[0;34m(\u001b[0m\u001b[0mdata\u001b[0m\u001b[0;34m,\u001b[0m \u001b[0mdict\u001b[0m\u001b[0;34m)\u001b[0m\u001b[0;34m:\u001b[0m\u001b[0;34m\u001b[0m\u001b[0;34m\u001b[0m\u001b[0m\n\u001b[1;32m    635\u001b[0m             \u001b[0;31m# GH#38939 de facto copy defaults to False only in non-dict cases\u001b[0m\u001b[0;34m\u001b[0m\u001b[0;34m\u001b[0m\u001b[0m\n\u001b[0;32m--> 636\u001b[0;31m             \u001b[0mmgr\u001b[0m \u001b[0;34m=\u001b[0m \u001b[0mdict_to_mgr\u001b[0m\u001b[0;34m(\u001b[0m\u001b[0mdata\u001b[0m\u001b[0;34m,\u001b[0m \u001b[0mindex\u001b[0m\u001b[0;34m,\u001b[0m \u001b[0mcolumns\u001b[0m\u001b[0;34m,\u001b[0m \u001b[0mdtype\u001b[0m\u001b[0;34m=\u001b[0m\u001b[0mdtype\u001b[0m\u001b[0;34m,\u001b[0m \u001b[0mcopy\u001b[0m\u001b[0;34m=\u001b[0m\u001b[0mcopy\u001b[0m\u001b[0;34m,\u001b[0m \u001b[0mtyp\u001b[0m\u001b[0;34m=\u001b[0m\u001b[0mmanager\u001b[0m\u001b[0;34m)\u001b[0m\u001b[0;34m\u001b[0m\u001b[0;34m\u001b[0m\u001b[0m\n\u001b[0m\u001b[1;32m    637\u001b[0m         \u001b[0;32melif\u001b[0m \u001b[0misinstance\u001b[0m\u001b[0;34m(\u001b[0m\u001b[0mdata\u001b[0m\u001b[0;34m,\u001b[0m \u001b[0mma\u001b[0m\u001b[0;34m.\u001b[0m\u001b[0mMaskedArray\u001b[0m\u001b[0;34m)\u001b[0m\u001b[0;34m:\u001b[0m\u001b[0;34m\u001b[0m\u001b[0;34m\u001b[0m\u001b[0m\n\u001b[1;32m    638\u001b[0m             \u001b[0;32mimport\u001b[0m \u001b[0mnumpy\u001b[0m\u001b[0;34m.\u001b[0m\u001b[0mma\u001b[0m\u001b[0;34m.\u001b[0m\u001b[0mmrecords\u001b[0m \u001b[0;32mas\u001b[0m \u001b[0mmrecords\u001b[0m\u001b[0;34m\u001b[0m\u001b[0;34m\u001b[0m\u001b[0m\n",
            "\u001b[0;32m/usr/local/lib/python3.9/dist-packages/pandas/core/internals/construction.py\u001b[0m in \u001b[0;36mdict_to_mgr\u001b[0;34m(data, index, columns, dtype, typ, copy)\u001b[0m\n\u001b[1;32m    500\u001b[0m         \u001b[0;31m# TODO: can we get rid of the dt64tz special case above?\u001b[0m\u001b[0;34m\u001b[0m\u001b[0;34m\u001b[0m\u001b[0m\n\u001b[1;32m    501\u001b[0m \u001b[0;34m\u001b[0m\u001b[0m\n\u001b[0;32m--> 502\u001b[0;31m     \u001b[0;32mreturn\u001b[0m \u001b[0marrays_to_mgr\u001b[0m\u001b[0;34m(\u001b[0m\u001b[0marrays\u001b[0m\u001b[0;34m,\u001b[0m \u001b[0mcolumns\u001b[0m\u001b[0;34m,\u001b[0m \u001b[0mindex\u001b[0m\u001b[0;34m,\u001b[0m \u001b[0mdtype\u001b[0m\u001b[0;34m=\u001b[0m\u001b[0mdtype\u001b[0m\u001b[0;34m,\u001b[0m \u001b[0mtyp\u001b[0m\u001b[0;34m=\u001b[0m\u001b[0mtyp\u001b[0m\u001b[0;34m,\u001b[0m \u001b[0mconsolidate\u001b[0m\u001b[0;34m=\u001b[0m\u001b[0mcopy\u001b[0m\u001b[0;34m)\u001b[0m\u001b[0;34m\u001b[0m\u001b[0;34m\u001b[0m\u001b[0m\n\u001b[0m\u001b[1;32m    503\u001b[0m \u001b[0;34m\u001b[0m\u001b[0m\n\u001b[1;32m    504\u001b[0m \u001b[0;34m\u001b[0m\u001b[0m\n",
            "\u001b[0;32m/usr/local/lib/python3.9/dist-packages/pandas/core/internals/construction.py\u001b[0m in \u001b[0;36marrays_to_mgr\u001b[0;34m(arrays, columns, index, dtype, verify_integrity, typ, consolidate)\u001b[0m\n\u001b[1;32m    118\u001b[0m         \u001b[0;31m# figure out the index, if necessary\u001b[0m\u001b[0;34m\u001b[0m\u001b[0;34m\u001b[0m\u001b[0m\n\u001b[1;32m    119\u001b[0m         \u001b[0;32mif\u001b[0m \u001b[0mindex\u001b[0m \u001b[0;32mis\u001b[0m \u001b[0;32mNone\u001b[0m\u001b[0;34m:\u001b[0m\u001b[0;34m\u001b[0m\u001b[0;34m\u001b[0m\u001b[0m\n\u001b[0;32m--> 120\u001b[0;31m             \u001b[0mindex\u001b[0m \u001b[0;34m=\u001b[0m \u001b[0m_extract_index\u001b[0m\u001b[0;34m(\u001b[0m\u001b[0marrays\u001b[0m\u001b[0;34m)\u001b[0m\u001b[0;34m\u001b[0m\u001b[0;34m\u001b[0m\u001b[0m\n\u001b[0m\u001b[1;32m    121\u001b[0m         \u001b[0;32melse\u001b[0m\u001b[0;34m:\u001b[0m\u001b[0;34m\u001b[0m\u001b[0;34m\u001b[0m\u001b[0m\n\u001b[1;32m    122\u001b[0m             \u001b[0mindex\u001b[0m \u001b[0;34m=\u001b[0m \u001b[0mensure_index\u001b[0m\u001b[0;34m(\u001b[0m\u001b[0mindex\u001b[0m\u001b[0;34m)\u001b[0m\u001b[0;34m\u001b[0m\u001b[0;34m\u001b[0m\u001b[0m\n",
            "\u001b[0;32m/usr/local/lib/python3.9/dist-packages/pandas/core/internals/construction.py\u001b[0m in \u001b[0;36m_extract_index\u001b[0;34m(data)\u001b[0m\n\u001b[1;32m    672\u001b[0m             \u001b[0mlengths\u001b[0m \u001b[0;34m=\u001b[0m \u001b[0mlist\u001b[0m\u001b[0;34m(\u001b[0m\u001b[0mset\u001b[0m\u001b[0;34m(\u001b[0m\u001b[0mraw_lengths\u001b[0m\u001b[0;34m)\u001b[0m\u001b[0;34m)\u001b[0m\u001b[0;34m\u001b[0m\u001b[0;34m\u001b[0m\u001b[0m\n\u001b[1;32m    673\u001b[0m             \u001b[0;32mif\u001b[0m \u001b[0mlen\u001b[0m\u001b[0;34m(\u001b[0m\u001b[0mlengths\u001b[0m\u001b[0;34m)\u001b[0m \u001b[0;34m>\u001b[0m \u001b[0;36m1\u001b[0m\u001b[0;34m:\u001b[0m\u001b[0;34m\u001b[0m\u001b[0;34m\u001b[0m\u001b[0m\n\u001b[0;32m--> 674\u001b[0;31m                 \u001b[0;32mraise\u001b[0m \u001b[0mValueError\u001b[0m\u001b[0;34m(\u001b[0m\u001b[0;34m\"All arrays must be of the same length\"\u001b[0m\u001b[0;34m)\u001b[0m\u001b[0;34m\u001b[0m\u001b[0;34m\u001b[0m\u001b[0m\n\u001b[0m\u001b[1;32m    675\u001b[0m \u001b[0;34m\u001b[0m\u001b[0m\n\u001b[1;32m    676\u001b[0m             \u001b[0;32mif\u001b[0m \u001b[0mhave_dicts\u001b[0m\u001b[0;34m:\u001b[0m\u001b[0;34m\u001b[0m\u001b[0;34m\u001b[0m\u001b[0m\n",
            "\u001b[0;31mValueError\u001b[0m: All arrays must be of the same length"
          ]
        }
      ]
    },
    {
      "cell_type": "markdown",
      "source": [
        "## Предсказание на след 30 дней (пока не работает)"
      ],
      "metadata": {
        "id": "LwONPCsByxzZ"
      }
    },
    {
      "cell_type": "code",
      "source": [
        "x_input=test_data[len(test_data)-time_step:].reshape(1,-1)\n",
        "temp_input=list(x_input)\n",
        "temp_input=temp_input[0].tolist()\n",
        "\n",
        "from numpy import array\n",
        "\n",
        "lst_output=[]\n",
        "n_steps=time_step\n",
        "i=0\n",
        "pred_days = 30\n",
        "while(i<pred_days):\n",
        "    \n",
        "    if(len(temp_input)>time_step):\n",
        "        \n",
        "        x_input=np.array(temp_input[1:])\n",
        "        #print(\"{} day input {}\".format(i,x_input))\n",
        "        x_input = x_input.reshape(1,-1)\n",
        "        x_input = x_input.reshape((1, n_steps, 1))\n",
        "        \n",
        "        yhat = model.predict(x_input, verbose=0)\n",
        "        #print(\"{} day output {}\".format(i,yhat))\n",
        "        temp_input.extend(yhat[0].tolist())\n",
        "        temp_input=temp_input[1:]\n",
        "        #print(temp_input)\n",
        "       \n",
        "        lst_output.extend(yhat.tolist())\n",
        "        i=i+1\n",
        "        \n",
        "    else:\n",
        "        \n",
        "        x_input = x_input.reshape((1, n_steps,1))\n",
        "        yhat = model.predict(x_input, verbose=0)\n",
        "        temp_input.extend(yhat[0].tolist())\n",
        "        \n",
        "        lst_output.extend(yhat.tolist())\n",
        "        i=i+1\n",
        "               \n",
        "print(\"Output of predicted next days: \", len(lst_output))\n"
      ],
      "metadata": {
        "colab": {
          "base_uri": "https://localhost:8080/"
        },
        "id": "3zU4NOygy7pc",
        "outputId": "3cbd3d97-87aa-442b-f3ae-1963eab180a9"
      },
      "execution_count": null,
      "outputs": [
        {
          "output_type": "stream",
          "name": "stdout",
          "text": [
            "Output of predicted next days:  30\n"
          ]
        }
      ]
    },
    {
      "cell_type": "code",
      "source": [
        "last_days=np.arange(1,time_step+1)\n",
        "day_pred=np.arange(time_step+1,time_step+pred_days+1)\n",
        "print(last_days)\n",
        "print(day_pred)"
      ],
      "metadata": {
        "colab": {
          "base_uri": "https://localhost:8080/"
        },
        "id": "hL1GghVvzD2d",
        "outputId": "013060c6-d272-42a9-8b7e-0c9d27d08a37"
      },
      "execution_count": null,
      "outputs": [
        {
          "output_type": "stream",
          "name": "stdout",
          "text": [
            "[ 1  2  3  4  5  6  7  8  9 10 11 12 13 14 15]\n",
            "[16 17 18 19 20 21 22 23 24 25 26 27 28 29 30 31 32 33 34 35 36 37 38 39\n",
            " 40 41 42 43 44 45]\n"
          ]
        }
      ]
    },
    {
      "cell_type": "code",
      "source": [
        "temp_mat = np.empty((len(last_days)+pred_days+1,1))\n",
        "temp_mat[:] = np.nan\n",
        "temp_mat = temp_mat.reshape(1,-1).tolist()[0]\n",
        "\n",
        "last_original_days_value = temp_mat\n",
        "next_predicted_days_value = temp_mat\n",
        "\n",
        "last_original_days_value[0:time_step+1] = scaler.inverse_transform(closedf[len(closedf)-time_step:]).reshape(1,-1).tolist()[0]\n",
        "next_predicted_days_value[time_step+1:] = scaler.inverse_transform(np.array(lst_output).reshape(-1,1)).reshape(1,-1).tolist()[0]\n",
        "\n",
        "new_pred_plot = pd.DataFrame({\n",
        "    'last_original_days_value':last_original_days_value,\n",
        "    'next_predicted_days_value':next_predicted_days_value\n",
        "})\n",
        "\n",
        "names = cycle(['Last 15 days close price','Predicted next 30 days close price'])\n",
        "\n",
        "fig = px.line(new_pred_plot,x=new_pred_plot.index, y=[new_pred_plot['last_original_days_value'],\n",
        "                                                      new_pred_plot['next_predicted_days_value']],\n",
        "              labels={'value': 'Stock price','index': 'Timestamp'})\n",
        "fig.update_layout(title_text='Compare last 15 days vs next 30 days',\n",
        "                  plot_bgcolor='white', font_size=15, font_color='black',legend_title_text='Close Price')\n",
        "\n",
        "fig.for_each_trace(lambda t:  t.update(name = next(names)))\n",
        "fig.update_xaxes(showgrid=False)\n",
        "fig.update_yaxes(showgrid=False)\n",
        "fig.show()"
      ],
      "metadata": {
        "colab": {
          "base_uri": "https://localhost:8080/",
          "height": 542
        },
        "id": "tZaeoaF3zJHi",
        "outputId": "7c6fb981-144e-418c-b293-b08f06c40244"
      },
      "execution_count": null,
      "outputs": [
        {
          "output_type": "display_data",
          "data": {
            "text/html": [
              "<html>\n",
              "<head><meta charset=\"utf-8\" /></head>\n",
              "<body>\n",
              "    <div>            <script src=\"https://cdnjs.cloudflare.com/ajax/libs/mathjax/2.7.5/MathJax.js?config=TeX-AMS-MML_SVG\"></script><script type=\"text/javascript\">if (window.MathJax && window.MathJax.Hub && window.MathJax.Hub.Config) {window.MathJax.Hub.Config({SVG: {font: \"STIX-Web\"}});}</script>                <script type=\"text/javascript\">window.PlotlyConfig = {MathJaxConfig: 'local'};</script>\n",
              "        <script src=\"https://cdn.plot.ly/plotly-2.18.2.min.js\"></script>                <div id=\"747fac0f-9223-4612-8e6b-a9e0efbcaa55\" class=\"plotly-graph-div\" style=\"height:525px; width:100%;\"></div>            <script type=\"text/javascript\">                                    window.PLOTLYENV=window.PLOTLYENV || {};                                    if (document.getElementById(\"747fac0f-9223-4612-8e6b-a9e0efbcaa55\")) {                    Plotly.newPlot(                        \"747fac0f-9223-4612-8e6b-a9e0efbcaa55\",                        [{\"hovertemplate\":\"variable=last_original_days_value<br>Timestamp=%{x}<br>Stock price=%{y}<extra></extra>\",\"legendgroup\":\"last_original_days_value\",\"line\":{\"color\":\"#636efa\",\"dash\":\"solid\"},\"marker\":{\"symbol\":\"circle\"},\"mode\":\"lines\",\"name\":\"Last 15 days close price\",\"orientation\":\"v\",\"showlegend\":true,\"x\":[0,1,2,3,4,5,6,7,8,9,10,11,12,13,14,15,16,17,18,19,20,21,22,23,24,25,26,27,28,29,30,31,32,33,34,35,36,37,38,39,40,41,42,43,44,45],\"xaxis\":\"x\",\"y\":[454.93399,456.0780030000001,463.615997,462.321991,442.684998,438.639008,436.57199099999997,442.401001,454.984985,455.653015,417.273987,422.82299800000004,422.278992,432.983002,426.619995,null,426.0372442507465,422.7594024873123,419.1202017294636,415.25408162961344,411.6910627708146,407.2526882126408,402.3103147537865,396.5116567496115,390.1141576603209,383.5611447798013,376.80821005274134,367.89713628300166,358.2835284477991,347.2993483303416,335.5988358079529,322.7458537884544,309.7091107567308,296.5473951715097,283.6091921422426,271.2491498084165,259.76685990786797,249.85272732055952,241.97662316835016,235.77230939138053,231.15088428138858,228.38651707731452,227.11739939713704,226.85298400920442,227.3307044345947,228.580605444731],\"yaxis\":\"y\",\"type\":\"scatter\"},{\"hovertemplate\":\"variable=next_predicted_days_value<br>Timestamp=%{x}<br>Stock price=%{y}<extra></extra>\",\"legendgroup\":\"next_predicted_days_value\",\"line\":{\"color\":\"#EF553B\",\"dash\":\"solid\"},\"marker\":{\"symbol\":\"circle\"},\"mode\":\"lines\",\"name\":\"Predicted next 30 days close price\",\"orientation\":\"v\",\"showlegend\":true,\"x\":[0,1,2,3,4,5,6,7,8,9,10,11,12,13,14,15,16,17,18,19,20,21,22,23,24,25,26,27,28,29,30,31,32,33,34,35,36,37,38,39,40,41,42,43,44,45],\"xaxis\":\"x\",\"y\":[454.93399,456.0780030000001,463.615997,462.321991,442.684998,438.639008,436.57199099999997,442.401001,454.984985,455.653015,417.273987,422.82299800000004,422.278992,432.983002,426.619995,null,426.0372442507465,422.7594024873123,419.1202017294636,415.25408162961344,411.6910627708146,407.2526882126408,402.3103147537865,396.5116567496115,390.1141576603209,383.5611447798013,376.80821005274134,367.89713628300166,358.2835284477991,347.2993483303416,335.5988358079529,322.7458537884544,309.7091107567308,296.5473951715097,283.6091921422426,271.2491498084165,259.76685990786797,249.85272732055952,241.97662316835016,235.77230939138053,231.15088428138858,228.38651707731452,227.11739939713704,226.85298400920442,227.3307044345947,228.580605444731],\"yaxis\":\"y\",\"type\":\"scatter\"}],                        {\"template\":{\"data\":{\"histogram2dcontour\":[{\"type\":\"histogram2dcontour\",\"colorbar\":{\"outlinewidth\":0,\"ticks\":\"\"},\"colorscale\":[[0.0,\"#0d0887\"],[0.1111111111111111,\"#46039f\"],[0.2222222222222222,\"#7201a8\"],[0.3333333333333333,\"#9c179e\"],[0.4444444444444444,\"#bd3786\"],[0.5555555555555556,\"#d8576b\"],[0.6666666666666666,\"#ed7953\"],[0.7777777777777778,\"#fb9f3a\"],[0.8888888888888888,\"#fdca26\"],[1.0,\"#f0f921\"]]}],\"choropleth\":[{\"type\":\"choropleth\",\"colorbar\":{\"outlinewidth\":0,\"ticks\":\"\"}}],\"histogram2d\":[{\"type\":\"histogram2d\",\"colorbar\":{\"outlinewidth\":0,\"ticks\":\"\"},\"colorscale\":[[0.0,\"#0d0887\"],[0.1111111111111111,\"#46039f\"],[0.2222222222222222,\"#7201a8\"],[0.3333333333333333,\"#9c179e\"],[0.4444444444444444,\"#bd3786\"],[0.5555555555555556,\"#d8576b\"],[0.6666666666666666,\"#ed7953\"],[0.7777777777777778,\"#fb9f3a\"],[0.8888888888888888,\"#fdca26\"],[1.0,\"#f0f921\"]]}],\"heatmap\":[{\"type\":\"heatmap\",\"colorbar\":{\"outlinewidth\":0,\"ticks\":\"\"},\"colorscale\":[[0.0,\"#0d0887\"],[0.1111111111111111,\"#46039f\"],[0.2222222222222222,\"#7201a8\"],[0.3333333333333333,\"#9c179e\"],[0.4444444444444444,\"#bd3786\"],[0.5555555555555556,\"#d8576b\"],[0.6666666666666666,\"#ed7953\"],[0.7777777777777778,\"#fb9f3a\"],[0.8888888888888888,\"#fdca26\"],[1.0,\"#f0f921\"]]}],\"heatmapgl\":[{\"type\":\"heatmapgl\",\"colorbar\":{\"outlinewidth\":0,\"ticks\":\"\"},\"colorscale\":[[0.0,\"#0d0887\"],[0.1111111111111111,\"#46039f\"],[0.2222222222222222,\"#7201a8\"],[0.3333333333333333,\"#9c179e\"],[0.4444444444444444,\"#bd3786\"],[0.5555555555555556,\"#d8576b\"],[0.6666666666666666,\"#ed7953\"],[0.7777777777777778,\"#fb9f3a\"],[0.8888888888888888,\"#fdca26\"],[1.0,\"#f0f921\"]]}],\"contourcarpet\":[{\"type\":\"contourcarpet\",\"colorbar\":{\"outlinewidth\":0,\"ticks\":\"\"}}],\"contour\":[{\"type\":\"contour\",\"colorbar\":{\"outlinewidth\":0,\"ticks\":\"\"},\"colorscale\":[[0.0,\"#0d0887\"],[0.1111111111111111,\"#46039f\"],[0.2222222222222222,\"#7201a8\"],[0.3333333333333333,\"#9c179e\"],[0.4444444444444444,\"#bd3786\"],[0.5555555555555556,\"#d8576b\"],[0.6666666666666666,\"#ed7953\"],[0.7777777777777778,\"#fb9f3a\"],[0.8888888888888888,\"#fdca26\"],[1.0,\"#f0f921\"]]}],\"surface\":[{\"type\":\"surface\",\"colorbar\":{\"outlinewidth\":0,\"ticks\":\"\"},\"colorscale\":[[0.0,\"#0d0887\"],[0.1111111111111111,\"#46039f\"],[0.2222222222222222,\"#7201a8\"],[0.3333333333333333,\"#9c179e\"],[0.4444444444444444,\"#bd3786\"],[0.5555555555555556,\"#d8576b\"],[0.6666666666666666,\"#ed7953\"],[0.7777777777777778,\"#fb9f3a\"],[0.8888888888888888,\"#fdca26\"],[1.0,\"#f0f921\"]]}],\"mesh3d\":[{\"type\":\"mesh3d\",\"colorbar\":{\"outlinewidth\":0,\"ticks\":\"\"}}],\"scatter\":[{\"fillpattern\":{\"fillmode\":\"overlay\",\"size\":10,\"solidity\":0.2},\"type\":\"scatter\"}],\"parcoords\":[{\"type\":\"parcoords\",\"line\":{\"colorbar\":{\"outlinewidth\":0,\"ticks\":\"\"}}}],\"scatterpolargl\":[{\"type\":\"scatterpolargl\",\"marker\":{\"colorbar\":{\"outlinewidth\":0,\"ticks\":\"\"}}}],\"bar\":[{\"error_x\":{\"color\":\"#2a3f5f\"},\"error_y\":{\"color\":\"#2a3f5f\"},\"marker\":{\"line\":{\"color\":\"#E5ECF6\",\"width\":0.5},\"pattern\":{\"fillmode\":\"overlay\",\"size\":10,\"solidity\":0.2}},\"type\":\"bar\"}],\"scattergeo\":[{\"type\":\"scattergeo\",\"marker\":{\"colorbar\":{\"outlinewidth\":0,\"ticks\":\"\"}}}],\"scatterpolar\":[{\"type\":\"scatterpolar\",\"marker\":{\"colorbar\":{\"outlinewidth\":0,\"ticks\":\"\"}}}],\"histogram\":[{\"marker\":{\"pattern\":{\"fillmode\":\"overlay\",\"size\":10,\"solidity\":0.2}},\"type\":\"histogram\"}],\"scattergl\":[{\"type\":\"scattergl\",\"marker\":{\"colorbar\":{\"outlinewidth\":0,\"ticks\":\"\"}}}],\"scatter3d\":[{\"type\":\"scatter3d\",\"line\":{\"colorbar\":{\"outlinewidth\":0,\"ticks\":\"\"}},\"marker\":{\"colorbar\":{\"outlinewidth\":0,\"ticks\":\"\"}}}],\"scattermapbox\":[{\"type\":\"scattermapbox\",\"marker\":{\"colorbar\":{\"outlinewidth\":0,\"ticks\":\"\"}}}],\"scatterternary\":[{\"type\":\"scatterternary\",\"marker\":{\"colorbar\":{\"outlinewidth\":0,\"ticks\":\"\"}}}],\"scattercarpet\":[{\"type\":\"scattercarpet\",\"marker\":{\"colorbar\":{\"outlinewidth\":0,\"ticks\":\"\"}}}],\"carpet\":[{\"aaxis\":{\"endlinecolor\":\"#2a3f5f\",\"gridcolor\":\"white\",\"linecolor\":\"white\",\"minorgridcolor\":\"white\",\"startlinecolor\":\"#2a3f5f\"},\"baxis\":{\"endlinecolor\":\"#2a3f5f\",\"gridcolor\":\"white\",\"linecolor\":\"white\",\"minorgridcolor\":\"white\",\"startlinecolor\":\"#2a3f5f\"},\"type\":\"carpet\"}],\"table\":[{\"cells\":{\"fill\":{\"color\":\"#EBF0F8\"},\"line\":{\"color\":\"white\"}},\"header\":{\"fill\":{\"color\":\"#C8D4E3\"},\"line\":{\"color\":\"white\"}},\"type\":\"table\"}],\"barpolar\":[{\"marker\":{\"line\":{\"color\":\"#E5ECF6\",\"width\":0.5},\"pattern\":{\"fillmode\":\"overlay\",\"size\":10,\"solidity\":0.2}},\"type\":\"barpolar\"}],\"pie\":[{\"automargin\":true,\"type\":\"pie\"}]},\"layout\":{\"autotypenumbers\":\"strict\",\"colorway\":[\"#636efa\",\"#EF553B\",\"#00cc96\",\"#ab63fa\",\"#FFA15A\",\"#19d3f3\",\"#FF6692\",\"#B6E880\",\"#FF97FF\",\"#FECB52\"],\"font\":{\"color\":\"#2a3f5f\"},\"hovermode\":\"closest\",\"hoverlabel\":{\"align\":\"left\"},\"paper_bgcolor\":\"white\",\"plot_bgcolor\":\"#E5ECF6\",\"polar\":{\"bgcolor\":\"#E5ECF6\",\"angularaxis\":{\"gridcolor\":\"white\",\"linecolor\":\"white\",\"ticks\":\"\"},\"radialaxis\":{\"gridcolor\":\"white\",\"linecolor\":\"white\",\"ticks\":\"\"}},\"ternary\":{\"bgcolor\":\"#E5ECF6\",\"aaxis\":{\"gridcolor\":\"white\",\"linecolor\":\"white\",\"ticks\":\"\"},\"baxis\":{\"gridcolor\":\"white\",\"linecolor\":\"white\",\"ticks\":\"\"},\"caxis\":{\"gridcolor\":\"white\",\"linecolor\":\"white\",\"ticks\":\"\"}},\"coloraxis\":{\"colorbar\":{\"outlinewidth\":0,\"ticks\":\"\"}},\"colorscale\":{\"sequential\":[[0.0,\"#0d0887\"],[0.1111111111111111,\"#46039f\"],[0.2222222222222222,\"#7201a8\"],[0.3333333333333333,\"#9c179e\"],[0.4444444444444444,\"#bd3786\"],[0.5555555555555556,\"#d8576b\"],[0.6666666666666666,\"#ed7953\"],[0.7777777777777778,\"#fb9f3a\"],[0.8888888888888888,\"#fdca26\"],[1.0,\"#f0f921\"]],\"sequentialminus\":[[0.0,\"#0d0887\"],[0.1111111111111111,\"#46039f\"],[0.2222222222222222,\"#7201a8\"],[0.3333333333333333,\"#9c179e\"],[0.4444444444444444,\"#bd3786\"],[0.5555555555555556,\"#d8576b\"],[0.6666666666666666,\"#ed7953\"],[0.7777777777777778,\"#fb9f3a\"],[0.8888888888888888,\"#fdca26\"],[1.0,\"#f0f921\"]],\"diverging\":[[0,\"#8e0152\"],[0.1,\"#c51b7d\"],[0.2,\"#de77ae\"],[0.3,\"#f1b6da\"],[0.4,\"#fde0ef\"],[0.5,\"#f7f7f7\"],[0.6,\"#e6f5d0\"],[0.7,\"#b8e186\"],[0.8,\"#7fbc41\"],[0.9,\"#4d9221\"],[1,\"#276419\"]]},\"xaxis\":{\"gridcolor\":\"white\",\"linecolor\":\"white\",\"ticks\":\"\",\"title\":{\"standoff\":15},\"zerolinecolor\":\"white\",\"automargin\":true,\"zerolinewidth\":2},\"yaxis\":{\"gridcolor\":\"white\",\"linecolor\":\"white\",\"ticks\":\"\",\"title\":{\"standoff\":15},\"zerolinecolor\":\"white\",\"automargin\":true,\"zerolinewidth\":2},\"scene\":{\"xaxis\":{\"backgroundcolor\":\"#E5ECF6\",\"gridcolor\":\"white\",\"linecolor\":\"white\",\"showbackground\":true,\"ticks\":\"\",\"zerolinecolor\":\"white\",\"gridwidth\":2},\"yaxis\":{\"backgroundcolor\":\"#E5ECF6\",\"gridcolor\":\"white\",\"linecolor\":\"white\",\"showbackground\":true,\"ticks\":\"\",\"zerolinecolor\":\"white\",\"gridwidth\":2},\"zaxis\":{\"backgroundcolor\":\"#E5ECF6\",\"gridcolor\":\"white\",\"linecolor\":\"white\",\"showbackground\":true,\"ticks\":\"\",\"zerolinecolor\":\"white\",\"gridwidth\":2}},\"shapedefaults\":{\"line\":{\"color\":\"#2a3f5f\"}},\"annotationdefaults\":{\"arrowcolor\":\"#2a3f5f\",\"arrowhead\":0,\"arrowwidth\":1},\"geo\":{\"bgcolor\":\"white\",\"landcolor\":\"#E5ECF6\",\"subunitcolor\":\"white\",\"showland\":true,\"showlakes\":true,\"lakecolor\":\"white\"},\"title\":{\"x\":0.05},\"mapbox\":{\"style\":\"light\"}}},\"xaxis\":{\"anchor\":\"y\",\"domain\":[0.0,1.0],\"title\":{\"text\":\"Timestamp\"},\"showgrid\":false},\"yaxis\":{\"anchor\":\"x\",\"domain\":[0.0,1.0],\"title\":{\"text\":\"Stock price\"},\"showgrid\":false},\"legend\":{\"title\":{\"text\":\"Close Price\"},\"tracegroupgap\":0},\"margin\":{\"t\":60},\"title\":{\"text\":\"Compare last 15 days vs next 30 days\"},\"font\":{\"size\":15,\"color\":\"black\"},\"plot_bgcolor\":\"white\"},                        {\"responsive\": true}                    ).then(function(){\n",
              "                            \n",
              "var gd = document.getElementById('747fac0f-9223-4612-8e6b-a9e0efbcaa55');\n",
              "var x = new MutationObserver(function (mutations, observer) {{\n",
              "        var display = window.getComputedStyle(gd).display;\n",
              "        if (!display || display === 'none') {{\n",
              "            console.log([gd, 'removed!']);\n",
              "            Plotly.purge(gd);\n",
              "            observer.disconnect();\n",
              "        }}\n",
              "}});\n",
              "\n",
              "// Listen for the removal of the full notebook cells\n",
              "var notebookContainer = gd.closest('#notebook-container');\n",
              "if (notebookContainer) {{\n",
              "    x.observe(notebookContainer, {childList: true});\n",
              "}}\n",
              "\n",
              "// Listen for the clearing of the current output cell\n",
              "var outputEl = gd.closest('.output');\n",
              "if (outputEl) {{\n",
              "    x.observe(outputEl, {childList: true});\n",
              "}}\n",
              "\n",
              "                        })                };                            </script>        </div>\n",
              "</body>\n",
              "</html>"
            ]
          },
          "metadata": {}
        }
      ]
    },
    {
      "cell_type": "code",
      "source": [
        "lstmdf=closedf.tolist()\n",
        "lstmdf.extend((np.array(lst_output).reshape(-1,1)).tolist())\n",
        "lstmdf=scaler.inverse_transform(lstmdf).reshape(1,-1).tolist()[0]\n",
        "\n",
        "names = cycle(['Close price'])\n",
        "\n",
        "fig = px.line(lstmdf,labels={'value': 'Stock price','index': 'Timestamp'})\n",
        "fig.update_layout(title_text='Plotting whole closing stock price with prediction',\n",
        "                  plot_bgcolor='white', font_size=15, font_color='black',legend_title_text='Stock')\n",
        "\n",
        "fig.for_each_trace(lambda t:  t.update(name = next(names)))\n",
        "\n",
        "fig.update_xaxes(showgrid=False)\n",
        "fig.update_yaxes(showgrid=False)\n",
        "fig.show()"
      ],
      "metadata": {
        "colab": {
          "base_uri": "https://localhost:8080/",
          "height": 542
        },
        "id": "aNg1tu9uzU_q",
        "outputId": "e3e8abff-9b06-40f9-c8fd-9ecbc9f313ee"
      },
      "execution_count": null,
      "outputs": [
        {
          "output_type": "display_data",
          "data": {
            "text/html": [
              "<html>\n",
              "<head><meta charset=\"utf-8\" /></head>\n",
              "<body>\n",
              "    <div>            <script src=\"https://cdnjs.cloudflare.com/ajax/libs/mathjax/2.7.5/MathJax.js?config=TeX-AMS-MML_SVG\"></script><script type=\"text/javascript\">if (window.MathJax && window.MathJax.Hub && window.MathJax.Hub.Config) {window.MathJax.Hub.Config({SVG: {font: \"STIX-Web\"}});}</script>                <script type=\"text/javascript\">window.PlotlyConfig = {MathJaxConfig: 'local'};</script>\n",
              "        <script src=\"https://cdn.plot.ly/plotly-2.18.2.min.js\"></script>                <div id=\"a195a455-56be-44f1-a47b-7b767dc04321\" class=\"plotly-graph-div\" style=\"height:525px; width:100%;\"></div>            <script type=\"text/javascript\">                                    window.PLOTLYENV=window.PLOTLYENV || {};                                    if (document.getElementById(\"a195a455-56be-44f1-a47b-7b767dc04321\")) {                    Plotly.newPlot(                        \"a195a455-56be-44f1-a47b-7b767dc04321\",                        [{\"hovertemplate\":\"variable=0<br>Timestamp=%{x}<br>Stock price=%{y}<extra></extra>\",\"legendgroup\":\"0\",\"line\":{\"color\":\"#636efa\",\"dash\":\"solid\"},\"marker\":{\"symbol\":\"circle\"},\"mode\":\"lines\",\"name\":\"Close price\",\"orientation\":\"v\",\"showlegend\":true,\"x\":[0,1,2,3,4,5,6,7,8,9,10,11,12,13,14,15,16,17,18,19,20,21,22,23,24,25,26,27,28,29,30,31,32,33,34,35,36,37,38,39,40,41,42,43,44,45,46,47,48,49,50,51,52,53,54,55,56,57,58,59,60,61,62,63,64,65,66,67,68,69,70,71,72,73,74,75,76,77,78,79,80,81,82,83,84,85,86,87,88,89,90,91,92,93,94,95,96,97,98,99,100,101,102,103,104,105,106,107,108,109,110,111,112,113,114,115,116,117,118,119,120,121,122,123,124,125,126,127,128,129,130,131,132,133,134,135,136,137,138,139,140,141,142,143,144,145,146,147,148,149,150,151,152,153,154,155,156,157,158,159,160,161,162,163,164,165,166,167,168,169,170,171,172,173,174,175,176,177,178,179,180,181,182,183,184,185,186,187,188,189,190,191,192,193,194,195,196,197,198,199,200,201,202,203,204,205,206,207,208,209,210,211,212,213,214,215,216,217,218,219,220,221,222,223,224,225,226,227,228,229,230,231,232,233,234,235,236,237,238,239,240,241,242,243,244,245,246,247,248,249,250,251,252,253,254,255,256,257,258,259,260,261,262,263,264,265,266,267,268,269,270,271,272,273,274,275,276,277,278,279,280,281,282,283,284,285,286,287,288,289,290,291,292,293,294,295,296,297,298,299,300,301,302,303,304,305,306,307,308,309,310,311,312,313,314,315,316,317,318,319,320,321,322,323,324,325,326,327,328,329,330,331,332,333,334,335,336,337,338,339,340,341,342,343,344,345,346,347,348,349,350,351,352,353,354,355,356,357,358,359,360,361,362,363,364,365,366,367,368,369,370,371,372,373,374,375,376,377,378,379,380,381,382,383,384,385,386,387,388,389,390,391,392,393],\"xaxis\":\"x\",\"y\":[314.248993,315.032013,281.082001,264.195007,274.473999,286.188995,294.337006,283.348999,290.40799,274.79599,265.660004,267.79599,225.860992,178.102997,209.843994,208.097,199.259995,210.339005,214.860992,211.315002,226.897003,233.406006,232.878998,247.847,253.718002,273.472992,263.475006,233.914993,233.51300000000003,226.425003,217.464005,226.972,238.22900399999997,227.268005,226.852997,217.110992,222.266006,227.753998,223.412003,220.11000100000004,219.839005,219.184998,221.764008,235.427002,257.321014,234.824997,233.843002,243.610001,236.326004,240.283005,243.779007,244.53399699999997,235.977005,238.89199800000003,238.735001,237.470001,236.425995,253.828003,254.26300000000003,260.201996,275.670013,281.701996,273.09201,276.178009,272.722992,276.260986,274.354004,289.606995,291.76001,296.378998,294.354004,285.337006,281.88501,286.393005,290.59298699999994,285.505005,256.299011,260.928009,261.748993,260.024994,267.959991,266.73999,245.595001,246.197006,248.531998,247.029007,252.798004,242.712997,247.526001,244.223999,247.272003,253.005005,254.322006,253.697006,260.597992,255.492004,253.179993,245.022003,243.675995,236.072006,236.552002,236.153,224.58700600000003,219.158997,223.832993,228.57299799999998,222.88200400000002,223.356003,222.600006,224.626007,235.268997,234.17599500000003,236.462006,231.268005,226.389999,219.429993,229.285995,225.85499599999997,225.807999,236.145004,232.078995,234.929993,240.35800200000003,239.018005,236.121002,229.781998,237.334,243.863007,241.832001,240.296005,242.158005,241.112,236.376999,236.929001,237.604996,236.153,236.80200199999996,233.12800599999997,231.947006,234.018005,235.343994,240.34800700000002,238.871994,240.953003,237.110001,237.115997,237.283005,237.408005,237.095993,233.345001,230.190002,222.925995,225.802994,225.87399300000004,224.32400500000003,224.951996,225.619003,222.880997,228.488998,229.048004,228.802994,229.705002,229.981995,232.401993,233.542999,236.822998,250.895004,249.28399700000003,249.007004,244.606003,245.212006,243.944,246.990005,244.296005,240.514999,242.798996,243.59399399999998,250.990005,249.01100200000002,257.063995,263.071991,258.621002,255.412003,256.335999,260.885986,271.912994,269.029999,266.207001,270.785004,269.227997,284.894012,293.11499,310.867004,292.05398599999995,287.463989,285.82901,278.088989,279.471985,274.901001,273.614014,278.980988,275.833008,277.221985,276.049011,288.278015,288.696991,292.686005,293.623993,294.427002,289.589996,287.721985,284.649994,281.601013,282.614014,281.22699,285.217987,281.881989,278.576996,279.584991,260.997009,265.083008,264.470001,270.385986,266.376007,264.079987,265.679993,261.550995,258.506989,257.976013,211.078995,226.684006,235.350006,232.569,230.389999,228.169006,210.494995,221.608994,225.830994,224.768997,231.395996,229.779999,228.761002,230.056,228.121002,229.283997,227.182999,230.298004,235.018997,239.839996,239.847,243.606995,238.167999,238.477005,240.106995,235.229004,230.511993,230.643997,230.304001,229.091003,229.809998,232.975006,231.492996,231.212006,227.085007,230.617996,230.283005,234.529007,235.143997,234.339996,232.757004,239.141998,236.686996,236.059998,237.548996,237.292999,238.729996,238.259003,240.38299600000002,246.06300400000003,242.968994,242.304001,243.931,244.940994,247.050003,245.307999,249.507996,251.988998,254.320007,262.868988,270.640015,261.643005,263.437012,269.463013,266.272003,274.02301,276.496002,281.653992,283.679993,285.299988,293.787994,304.618011,313.855011,328.015015,314.165985,325.43100000000004,361.188995,403.416992,411.562988,386.354004,374.470001,386.481995,373.368011,380.25698900000003,336.819,311.084015,338.152008,336.752991,332.906006,320.165985,330.751007,335.093994,334.589996,326.1489869999999,322.022003,326.927002,324.536011,323.04599,320.04599,328.205994,352.68399,358.041992,357.38101199999994,371.294006,377.321014,362.488007,359.187012,361.04599,363.183014,388.949005,388.78299,395.536011,415.562988,417.562988,415.479004,451.937988,434.99700900000005,433.755005,444.182007,465.321014,454.93399,456.0780030000001,463.615997,462.321991,442.684998,438.639008,436.57199099999997,442.401001,454.984985,455.653015,417.273987,422.82299800000004,422.278992,432.983002,426.619995,426.0372442507465,422.7594024873123,419.1202017294636,415.25408162961344,411.6910627708146,407.2526882126408,402.3103147537865,396.5116567496115,390.1141576603209,383.5611447798013,376.80821005274134,367.89713628300166,358.2835284477991,347.2993483303416,335.5988358079529,322.7458537884544,309.7091107567308,296.5473951715097,283.6091921422426,271.2491498084165,259.76685990786797,249.85272732055952,241.97662316835016,235.77230939138053,231.15088428138858,228.38651707731452,227.11739939713704,226.85298400920442,227.3307044345947,228.580605444731],\"yaxis\":\"y\",\"type\":\"scatter\"}],                        {\"template\":{\"data\":{\"histogram2dcontour\":[{\"type\":\"histogram2dcontour\",\"colorbar\":{\"outlinewidth\":0,\"ticks\":\"\"},\"colorscale\":[[0.0,\"#0d0887\"],[0.1111111111111111,\"#46039f\"],[0.2222222222222222,\"#7201a8\"],[0.3333333333333333,\"#9c179e\"],[0.4444444444444444,\"#bd3786\"],[0.5555555555555556,\"#d8576b\"],[0.6666666666666666,\"#ed7953\"],[0.7777777777777778,\"#fb9f3a\"],[0.8888888888888888,\"#fdca26\"],[1.0,\"#f0f921\"]]}],\"choropleth\":[{\"type\":\"choropleth\",\"colorbar\":{\"outlinewidth\":0,\"ticks\":\"\"}}],\"histogram2d\":[{\"type\":\"histogram2d\",\"colorbar\":{\"outlinewidth\":0,\"ticks\":\"\"},\"colorscale\":[[0.0,\"#0d0887\"],[0.1111111111111111,\"#46039f\"],[0.2222222222222222,\"#7201a8\"],[0.3333333333333333,\"#9c179e\"],[0.4444444444444444,\"#bd3786\"],[0.5555555555555556,\"#d8576b\"],[0.6666666666666666,\"#ed7953\"],[0.7777777777777778,\"#fb9f3a\"],[0.8888888888888888,\"#fdca26\"],[1.0,\"#f0f921\"]]}],\"heatmap\":[{\"type\":\"heatmap\",\"colorbar\":{\"outlinewidth\":0,\"ticks\":\"\"},\"colorscale\":[[0.0,\"#0d0887\"],[0.1111111111111111,\"#46039f\"],[0.2222222222222222,\"#7201a8\"],[0.3333333333333333,\"#9c179e\"],[0.4444444444444444,\"#bd3786\"],[0.5555555555555556,\"#d8576b\"],[0.6666666666666666,\"#ed7953\"],[0.7777777777777778,\"#fb9f3a\"],[0.8888888888888888,\"#fdca26\"],[1.0,\"#f0f921\"]]}],\"heatmapgl\":[{\"type\":\"heatmapgl\",\"colorbar\":{\"outlinewidth\":0,\"ticks\":\"\"},\"colorscale\":[[0.0,\"#0d0887\"],[0.1111111111111111,\"#46039f\"],[0.2222222222222222,\"#7201a8\"],[0.3333333333333333,\"#9c179e\"],[0.4444444444444444,\"#bd3786\"],[0.5555555555555556,\"#d8576b\"],[0.6666666666666666,\"#ed7953\"],[0.7777777777777778,\"#fb9f3a\"],[0.8888888888888888,\"#fdca26\"],[1.0,\"#f0f921\"]]}],\"contourcarpet\":[{\"type\":\"contourcarpet\",\"colorbar\":{\"outlinewidth\":0,\"ticks\":\"\"}}],\"contour\":[{\"type\":\"contour\",\"colorbar\":{\"outlinewidth\":0,\"ticks\":\"\"},\"colorscale\":[[0.0,\"#0d0887\"],[0.1111111111111111,\"#46039f\"],[0.2222222222222222,\"#7201a8\"],[0.3333333333333333,\"#9c179e\"],[0.4444444444444444,\"#bd3786\"],[0.5555555555555556,\"#d8576b\"],[0.6666666666666666,\"#ed7953\"],[0.7777777777777778,\"#fb9f3a\"],[0.8888888888888888,\"#fdca26\"],[1.0,\"#f0f921\"]]}],\"surface\":[{\"type\":\"surface\",\"colorbar\":{\"outlinewidth\":0,\"ticks\":\"\"},\"colorscale\":[[0.0,\"#0d0887\"],[0.1111111111111111,\"#46039f\"],[0.2222222222222222,\"#7201a8\"],[0.3333333333333333,\"#9c179e\"],[0.4444444444444444,\"#bd3786\"],[0.5555555555555556,\"#d8576b\"],[0.6666666666666666,\"#ed7953\"],[0.7777777777777778,\"#fb9f3a\"],[0.8888888888888888,\"#fdca26\"],[1.0,\"#f0f921\"]]}],\"mesh3d\":[{\"type\":\"mesh3d\",\"colorbar\":{\"outlinewidth\":0,\"ticks\":\"\"}}],\"scatter\":[{\"fillpattern\":{\"fillmode\":\"overlay\",\"size\":10,\"solidity\":0.2},\"type\":\"scatter\"}],\"parcoords\":[{\"type\":\"parcoords\",\"line\":{\"colorbar\":{\"outlinewidth\":0,\"ticks\":\"\"}}}],\"scatterpolargl\":[{\"type\":\"scatterpolargl\",\"marker\":{\"colorbar\":{\"outlinewidth\":0,\"ticks\":\"\"}}}],\"bar\":[{\"error_x\":{\"color\":\"#2a3f5f\"},\"error_y\":{\"color\":\"#2a3f5f\"},\"marker\":{\"line\":{\"color\":\"#E5ECF6\",\"width\":0.5},\"pattern\":{\"fillmode\":\"overlay\",\"size\":10,\"solidity\":0.2}},\"type\":\"bar\"}],\"scattergeo\":[{\"type\":\"scattergeo\",\"marker\":{\"colorbar\":{\"outlinewidth\":0,\"ticks\":\"\"}}}],\"scatterpolar\":[{\"type\":\"scatterpolar\",\"marker\":{\"colorbar\":{\"outlinewidth\":0,\"ticks\":\"\"}}}],\"histogram\":[{\"marker\":{\"pattern\":{\"fillmode\":\"overlay\",\"size\":10,\"solidity\":0.2}},\"type\":\"histogram\"}],\"scattergl\":[{\"type\":\"scattergl\",\"marker\":{\"colorbar\":{\"outlinewidth\":0,\"ticks\":\"\"}}}],\"scatter3d\":[{\"type\":\"scatter3d\",\"line\":{\"colorbar\":{\"outlinewidth\":0,\"ticks\":\"\"}},\"marker\":{\"colorbar\":{\"outlinewidth\":0,\"ticks\":\"\"}}}],\"scattermapbox\":[{\"type\":\"scattermapbox\",\"marker\":{\"colorbar\":{\"outlinewidth\":0,\"ticks\":\"\"}}}],\"scatterternary\":[{\"type\":\"scatterternary\",\"marker\":{\"colorbar\":{\"outlinewidth\":0,\"ticks\":\"\"}}}],\"scattercarpet\":[{\"type\":\"scattercarpet\",\"marker\":{\"colorbar\":{\"outlinewidth\":0,\"ticks\":\"\"}}}],\"carpet\":[{\"aaxis\":{\"endlinecolor\":\"#2a3f5f\",\"gridcolor\":\"white\",\"linecolor\":\"white\",\"minorgridcolor\":\"white\",\"startlinecolor\":\"#2a3f5f\"},\"baxis\":{\"endlinecolor\":\"#2a3f5f\",\"gridcolor\":\"white\",\"linecolor\":\"white\",\"minorgridcolor\":\"white\",\"startlinecolor\":\"#2a3f5f\"},\"type\":\"carpet\"}],\"table\":[{\"cells\":{\"fill\":{\"color\":\"#EBF0F8\"},\"line\":{\"color\":\"white\"}},\"header\":{\"fill\":{\"color\":\"#C8D4E3\"},\"line\":{\"color\":\"white\"}},\"type\":\"table\"}],\"barpolar\":[{\"marker\":{\"line\":{\"color\":\"#E5ECF6\",\"width\":0.5},\"pattern\":{\"fillmode\":\"overlay\",\"size\":10,\"solidity\":0.2}},\"type\":\"barpolar\"}],\"pie\":[{\"automargin\":true,\"type\":\"pie\"}]},\"layout\":{\"autotypenumbers\":\"strict\",\"colorway\":[\"#636efa\",\"#EF553B\",\"#00cc96\",\"#ab63fa\",\"#FFA15A\",\"#19d3f3\",\"#FF6692\",\"#B6E880\",\"#FF97FF\",\"#FECB52\"],\"font\":{\"color\":\"#2a3f5f\"},\"hovermode\":\"closest\",\"hoverlabel\":{\"align\":\"left\"},\"paper_bgcolor\":\"white\",\"plot_bgcolor\":\"#E5ECF6\",\"polar\":{\"bgcolor\":\"#E5ECF6\",\"angularaxis\":{\"gridcolor\":\"white\",\"linecolor\":\"white\",\"ticks\":\"\"},\"radialaxis\":{\"gridcolor\":\"white\",\"linecolor\":\"white\",\"ticks\":\"\"}},\"ternary\":{\"bgcolor\":\"#E5ECF6\",\"aaxis\":{\"gridcolor\":\"white\",\"linecolor\":\"white\",\"ticks\":\"\"},\"baxis\":{\"gridcolor\":\"white\",\"linecolor\":\"white\",\"ticks\":\"\"},\"caxis\":{\"gridcolor\":\"white\",\"linecolor\":\"white\",\"ticks\":\"\"}},\"coloraxis\":{\"colorbar\":{\"outlinewidth\":0,\"ticks\":\"\"}},\"colorscale\":{\"sequential\":[[0.0,\"#0d0887\"],[0.1111111111111111,\"#46039f\"],[0.2222222222222222,\"#7201a8\"],[0.3333333333333333,\"#9c179e\"],[0.4444444444444444,\"#bd3786\"],[0.5555555555555556,\"#d8576b\"],[0.6666666666666666,\"#ed7953\"],[0.7777777777777778,\"#fb9f3a\"],[0.8888888888888888,\"#fdca26\"],[1.0,\"#f0f921\"]],\"sequentialminus\":[[0.0,\"#0d0887\"],[0.1111111111111111,\"#46039f\"],[0.2222222222222222,\"#7201a8\"],[0.3333333333333333,\"#9c179e\"],[0.4444444444444444,\"#bd3786\"],[0.5555555555555556,\"#d8576b\"],[0.6666666666666666,\"#ed7953\"],[0.7777777777777778,\"#fb9f3a\"],[0.8888888888888888,\"#fdca26\"],[1.0,\"#f0f921\"]],\"diverging\":[[0,\"#8e0152\"],[0.1,\"#c51b7d\"],[0.2,\"#de77ae\"],[0.3,\"#f1b6da\"],[0.4,\"#fde0ef\"],[0.5,\"#f7f7f7\"],[0.6,\"#e6f5d0\"],[0.7,\"#b8e186\"],[0.8,\"#7fbc41\"],[0.9,\"#4d9221\"],[1,\"#276419\"]]},\"xaxis\":{\"gridcolor\":\"white\",\"linecolor\":\"white\",\"ticks\":\"\",\"title\":{\"standoff\":15},\"zerolinecolor\":\"white\",\"automargin\":true,\"zerolinewidth\":2},\"yaxis\":{\"gridcolor\":\"white\",\"linecolor\":\"white\",\"ticks\":\"\",\"title\":{\"standoff\":15},\"zerolinecolor\":\"white\",\"automargin\":true,\"zerolinewidth\":2},\"scene\":{\"xaxis\":{\"backgroundcolor\":\"#E5ECF6\",\"gridcolor\":\"white\",\"linecolor\":\"white\",\"showbackground\":true,\"ticks\":\"\",\"zerolinecolor\":\"white\",\"gridwidth\":2},\"yaxis\":{\"backgroundcolor\":\"#E5ECF6\",\"gridcolor\":\"white\",\"linecolor\":\"white\",\"showbackground\":true,\"ticks\":\"\",\"zerolinecolor\":\"white\",\"gridwidth\":2},\"zaxis\":{\"backgroundcolor\":\"#E5ECF6\",\"gridcolor\":\"white\",\"linecolor\":\"white\",\"showbackground\":true,\"ticks\":\"\",\"zerolinecolor\":\"white\",\"gridwidth\":2}},\"shapedefaults\":{\"line\":{\"color\":\"#2a3f5f\"}},\"annotationdefaults\":{\"arrowcolor\":\"#2a3f5f\",\"arrowhead\":0,\"arrowwidth\":1},\"geo\":{\"bgcolor\":\"white\",\"landcolor\":\"#E5ECF6\",\"subunitcolor\":\"white\",\"showland\":true,\"showlakes\":true,\"lakecolor\":\"white\"},\"title\":{\"x\":0.05},\"mapbox\":{\"style\":\"light\"}}},\"xaxis\":{\"anchor\":\"y\",\"domain\":[0.0,1.0],\"title\":{\"text\":\"Timestamp\"},\"showgrid\":false},\"yaxis\":{\"anchor\":\"x\",\"domain\":[0.0,1.0],\"title\":{\"text\":\"Stock price\"},\"showgrid\":false},\"legend\":{\"title\":{\"text\":\"Stock\"},\"tracegroupgap\":0},\"margin\":{\"t\":60},\"title\":{\"text\":\"Plotting whole closing stock price with prediction\"},\"font\":{\"size\":15,\"color\":\"black\"},\"plot_bgcolor\":\"white\"},                        {\"responsive\": true}                    ).then(function(){\n",
              "                            \n",
              "var gd = document.getElementById('a195a455-56be-44f1-a47b-7b767dc04321');\n",
              "var x = new MutationObserver(function (mutations, observer) {{\n",
              "        var display = window.getComputedStyle(gd).display;\n",
              "        if (!display || display === 'none') {{\n",
              "            console.log([gd, 'removed!']);\n",
              "            Plotly.purge(gd);\n",
              "            observer.disconnect();\n",
              "        }}\n",
              "}});\n",
              "\n",
              "// Listen for the removal of the full notebook cells\n",
              "var notebookContainer = gd.closest('#notebook-container');\n",
              "if (notebookContainer) {{\n",
              "    x.observe(notebookContainer, {childList: true});\n",
              "}}\n",
              "\n",
              "// Listen for the clearing of the current output cell\n",
              "var outputEl = gd.closest('.output');\n",
              "if (outputEl) {{\n",
              "    x.observe(outputEl, {childList: true});\n",
              "}}\n",
              "\n",
              "                        })                };                            </script>        </div>\n",
              "</body>\n",
              "</html>"
            ]
          },
          "metadata": {}
        }
      ]
    },
    {
      "cell_type": "code",
      "source": [
        "y_2016 = df.loc[(df['Date'] >= '2016-01-01')\n",
        "                     & (df['Date'] < '2016-02-01')]\n",
        "closedf2016 = y_2016[['Date','Close']]\n",
        "closedf2016"
      ],
      "metadata": {
        "colab": {
          "base_uri": "https://localhost:8080/",
          "height": 1000
        },
        "id": "jGvXmsKY6NQY",
        "outputId": "8829a89a-920f-4ccb-a8ac-ebdfbc634060"
      },
      "execution_count": null,
      "outputs": [
        {
          "output_type": "execute_result",
          "data": {
            "text/plain": [
              "          Date       Close\n",
              "471 2016-01-01  434.334015\n",
              "472 2016-01-02  433.437988\n",
              "473 2016-01-03  430.010986\n",
              "474 2016-01-04  433.091003\n",
              "475 2016-01-05  431.959991\n",
              "476 2016-01-06  429.105011\n",
              "477 2016-01-07  458.048004\n",
              "478 2016-01-08  453.230011\n",
              "479 2016-01-09  447.610992\n",
              "480 2016-01-10  447.990997\n",
              "481 2016-01-11  448.428009\n",
              "482 2016-01-12  435.690002\n",
              "483 2016-01-13  432.371002\n",
              "484 2016-01-14  430.306000\n",
              "485 2016-01-15  364.330994\n",
              "486 2016-01-16  387.536011\n",
              "487 2016-01-17  382.299011\n",
              "488 2016-01-18  387.167999\n",
              "489 2016-01-19  380.148987\n",
              "490 2016-01-20  420.230011\n",
              "491 2016-01-21  410.261993\n",
              "492 2016-01-22  382.492004\n",
              "493 2016-01-23  387.490997\n",
              "494 2016-01-24  402.971008\n",
              "495 2016-01-25  391.726013\n",
              "496 2016-01-26  392.153015\n",
              "497 2016-01-27  394.971985\n",
              "498 2016-01-28  380.289001\n",
              "499 2016-01-29  379.473999\n",
              "500 2016-01-30  378.255005\n",
              "501 2016-01-31  368.766998"
            ],
            "text/html": [
              "\n",
              "  <div id=\"df-8e4912c1-74a9-4a70-a10a-768a5993f542\">\n",
              "    <div class=\"colab-df-container\">\n",
              "      <div>\n",
              "<style scoped>\n",
              "    .dataframe tbody tr th:only-of-type {\n",
              "        vertical-align: middle;\n",
              "    }\n",
              "\n",
              "    .dataframe tbody tr th {\n",
              "        vertical-align: top;\n",
              "    }\n",
              "\n",
              "    .dataframe thead th {\n",
              "        text-align: right;\n",
              "    }\n",
              "</style>\n",
              "<table border=\"1\" class=\"dataframe\">\n",
              "  <thead>\n",
              "    <tr style=\"text-align: right;\">\n",
              "      <th></th>\n",
              "      <th>Date</th>\n",
              "      <th>Close</th>\n",
              "    </tr>\n",
              "  </thead>\n",
              "  <tbody>\n",
              "    <tr>\n",
              "      <th>471</th>\n",
              "      <td>2016-01-01</td>\n",
              "      <td>434.334015</td>\n",
              "    </tr>\n",
              "    <tr>\n",
              "      <th>472</th>\n",
              "      <td>2016-01-02</td>\n",
              "      <td>433.437988</td>\n",
              "    </tr>\n",
              "    <tr>\n",
              "      <th>473</th>\n",
              "      <td>2016-01-03</td>\n",
              "      <td>430.010986</td>\n",
              "    </tr>\n",
              "    <tr>\n",
              "      <th>474</th>\n",
              "      <td>2016-01-04</td>\n",
              "      <td>433.091003</td>\n",
              "    </tr>\n",
              "    <tr>\n",
              "      <th>475</th>\n",
              "      <td>2016-01-05</td>\n",
              "      <td>431.959991</td>\n",
              "    </tr>\n",
              "    <tr>\n",
              "      <th>476</th>\n",
              "      <td>2016-01-06</td>\n",
              "      <td>429.105011</td>\n",
              "    </tr>\n",
              "    <tr>\n",
              "      <th>477</th>\n",
              "      <td>2016-01-07</td>\n",
              "      <td>458.048004</td>\n",
              "    </tr>\n",
              "    <tr>\n",
              "      <th>478</th>\n",
              "      <td>2016-01-08</td>\n",
              "      <td>453.230011</td>\n",
              "    </tr>\n",
              "    <tr>\n",
              "      <th>479</th>\n",
              "      <td>2016-01-09</td>\n",
              "      <td>447.610992</td>\n",
              "    </tr>\n",
              "    <tr>\n",
              "      <th>480</th>\n",
              "      <td>2016-01-10</td>\n",
              "      <td>447.990997</td>\n",
              "    </tr>\n",
              "    <tr>\n",
              "      <th>481</th>\n",
              "      <td>2016-01-11</td>\n",
              "      <td>448.428009</td>\n",
              "    </tr>\n",
              "    <tr>\n",
              "      <th>482</th>\n",
              "      <td>2016-01-12</td>\n",
              "      <td>435.690002</td>\n",
              "    </tr>\n",
              "    <tr>\n",
              "      <th>483</th>\n",
              "      <td>2016-01-13</td>\n",
              "      <td>432.371002</td>\n",
              "    </tr>\n",
              "    <tr>\n",
              "      <th>484</th>\n",
              "      <td>2016-01-14</td>\n",
              "      <td>430.306000</td>\n",
              "    </tr>\n",
              "    <tr>\n",
              "      <th>485</th>\n",
              "      <td>2016-01-15</td>\n",
              "      <td>364.330994</td>\n",
              "    </tr>\n",
              "    <tr>\n",
              "      <th>486</th>\n",
              "      <td>2016-01-16</td>\n",
              "      <td>387.536011</td>\n",
              "    </tr>\n",
              "    <tr>\n",
              "      <th>487</th>\n",
              "      <td>2016-01-17</td>\n",
              "      <td>382.299011</td>\n",
              "    </tr>\n",
              "    <tr>\n",
              "      <th>488</th>\n",
              "      <td>2016-01-18</td>\n",
              "      <td>387.167999</td>\n",
              "    </tr>\n",
              "    <tr>\n",
              "      <th>489</th>\n",
              "      <td>2016-01-19</td>\n",
              "      <td>380.148987</td>\n",
              "    </tr>\n",
              "    <tr>\n",
              "      <th>490</th>\n",
              "      <td>2016-01-20</td>\n",
              "      <td>420.230011</td>\n",
              "    </tr>\n",
              "    <tr>\n",
              "      <th>491</th>\n",
              "      <td>2016-01-21</td>\n",
              "      <td>410.261993</td>\n",
              "    </tr>\n",
              "    <tr>\n",
              "      <th>492</th>\n",
              "      <td>2016-01-22</td>\n",
              "      <td>382.492004</td>\n",
              "    </tr>\n",
              "    <tr>\n",
              "      <th>493</th>\n",
              "      <td>2016-01-23</td>\n",
              "      <td>387.490997</td>\n",
              "    </tr>\n",
              "    <tr>\n",
              "      <th>494</th>\n",
              "      <td>2016-01-24</td>\n",
              "      <td>402.971008</td>\n",
              "    </tr>\n",
              "    <tr>\n",
              "      <th>495</th>\n",
              "      <td>2016-01-25</td>\n",
              "      <td>391.726013</td>\n",
              "    </tr>\n",
              "    <tr>\n",
              "      <th>496</th>\n",
              "      <td>2016-01-26</td>\n",
              "      <td>392.153015</td>\n",
              "    </tr>\n",
              "    <tr>\n",
              "      <th>497</th>\n",
              "      <td>2016-01-27</td>\n",
              "      <td>394.971985</td>\n",
              "    </tr>\n",
              "    <tr>\n",
              "      <th>498</th>\n",
              "      <td>2016-01-28</td>\n",
              "      <td>380.289001</td>\n",
              "    </tr>\n",
              "    <tr>\n",
              "      <th>499</th>\n",
              "      <td>2016-01-29</td>\n",
              "      <td>379.473999</td>\n",
              "    </tr>\n",
              "    <tr>\n",
              "      <th>500</th>\n",
              "      <td>2016-01-30</td>\n",
              "      <td>378.255005</td>\n",
              "    </tr>\n",
              "    <tr>\n",
              "      <th>501</th>\n",
              "      <td>2016-01-31</td>\n",
              "      <td>368.766998</td>\n",
              "    </tr>\n",
              "  </tbody>\n",
              "</table>\n",
              "</div>\n",
              "      <button class=\"colab-df-convert\" onclick=\"convertToInteractive('df-8e4912c1-74a9-4a70-a10a-768a5993f542')\"\n",
              "              title=\"Convert this dataframe to an interactive table.\"\n",
              "              style=\"display:none;\">\n",
              "        \n",
              "  <svg xmlns=\"http://www.w3.org/2000/svg\" height=\"24px\"viewBox=\"0 0 24 24\"\n",
              "       width=\"24px\">\n",
              "    <path d=\"M0 0h24v24H0V0z\" fill=\"none\"/>\n",
              "    <path d=\"M18.56 5.44l.94 2.06.94-2.06 2.06-.94-2.06-.94-.94-2.06-.94 2.06-2.06.94zm-11 1L8.5 8.5l.94-2.06 2.06-.94-2.06-.94L8.5 2.5l-.94 2.06-2.06.94zm10 10l.94 2.06.94-2.06 2.06-.94-2.06-.94-.94-2.06-.94 2.06-2.06.94z\"/><path d=\"M17.41 7.96l-1.37-1.37c-.4-.4-.92-.59-1.43-.59-.52 0-1.04.2-1.43.59L10.3 9.45l-7.72 7.72c-.78.78-.78 2.05 0 2.83L4 21.41c.39.39.9.59 1.41.59.51 0 1.02-.2 1.41-.59l7.78-7.78 2.81-2.81c.8-.78.8-2.07 0-2.86zM5.41 20L4 18.59l7.72-7.72 1.47 1.35L5.41 20z\"/>\n",
              "  </svg>\n",
              "      </button>\n",
              "      \n",
              "  <style>\n",
              "    .colab-df-container {\n",
              "      display:flex;\n",
              "      flex-wrap:wrap;\n",
              "      gap: 12px;\n",
              "    }\n",
              "\n",
              "    .colab-df-convert {\n",
              "      background-color: #E8F0FE;\n",
              "      border: none;\n",
              "      border-radius: 50%;\n",
              "      cursor: pointer;\n",
              "      display: none;\n",
              "      fill: #1967D2;\n",
              "      height: 32px;\n",
              "      padding: 0 0 0 0;\n",
              "      width: 32px;\n",
              "    }\n",
              "\n",
              "    .colab-df-convert:hover {\n",
              "      background-color: #E2EBFA;\n",
              "      box-shadow: 0px 1px 2px rgba(60, 64, 67, 0.3), 0px 1px 3px 1px rgba(60, 64, 67, 0.15);\n",
              "      fill: #174EA6;\n",
              "    }\n",
              "\n",
              "    [theme=dark] .colab-df-convert {\n",
              "      background-color: #3B4455;\n",
              "      fill: #D2E3FC;\n",
              "    }\n",
              "\n",
              "    [theme=dark] .colab-df-convert:hover {\n",
              "      background-color: #434B5C;\n",
              "      box-shadow: 0px 1px 3px 1px rgba(0, 0, 0, 0.15);\n",
              "      filter: drop-shadow(0px 1px 2px rgba(0, 0, 0, 0.3));\n",
              "      fill: #FFFFFF;\n",
              "    }\n",
              "  </style>\n",
              "\n",
              "      <script>\n",
              "        const buttonEl =\n",
              "          document.querySelector('#df-8e4912c1-74a9-4a70-a10a-768a5993f542 button.colab-df-convert');\n",
              "        buttonEl.style.display =\n",
              "          google.colab.kernel.accessAllowed ? 'block' : 'none';\n",
              "\n",
              "        async function convertToInteractive(key) {\n",
              "          const element = document.querySelector('#df-8e4912c1-74a9-4a70-a10a-768a5993f542');\n",
              "          const dataTable =\n",
              "            await google.colab.kernel.invokeFunction('convertToInteractive',\n",
              "                                                     [key], {});\n",
              "          if (!dataTable) return;\n",
              "\n",
              "          const docLinkHtml = 'Like what you see? Visit the ' +\n",
              "            '<a target=\"_blank\" href=https://colab.research.google.com/notebooks/data_table.ipynb>data table notebook</a>'\n",
              "            + ' to learn more about interactive tables.';\n",
              "          element.innerHTML = '';\n",
              "          dataTable['output_type'] = 'display_data';\n",
              "          await google.colab.output.renderOutput(dataTable, element);\n",
              "          const docLink = document.createElement('div');\n",
              "          docLink.innerHTML = docLinkHtml;\n",
              "          element.appendChild(docLink);\n",
              "        }\n",
              "      </script>\n",
              "    </div>\n",
              "  </div>\n",
              "  "
            ]
          },
          "metadata": {},
          "execution_count": 375
        }
      ]
    },
    {
      "cell_type": "code",
      "source": [
        "fig = px.line(closedf2016, x=closedf2016.Date, y=closedf2016.Close,labels={'date':'Date','close':'Close Stock'})\n",
        "fig.update_traces(marker_line_width=2, opacity=0.8, marker_line_color='orange')\n",
        "fig.update_layout(title_text='Considered period to predict Bitcoin close price', \n",
        "                  plot_bgcolor='white', font_size=15, font_color='black')\n",
        "fig.update_xaxes(showgrid=False)\n",
        "fig.update_yaxes(showgrid=False)\n",
        "fig.show()"
      ],
      "metadata": {
        "colab": {
          "base_uri": "https://localhost:8080/",
          "height": 542
        },
        "id": "ZKSgSW4Z6V-g",
        "outputId": "f4562f1f-cd47-427f-8ead-5a8304769622"
      },
      "execution_count": null,
      "outputs": [
        {
          "output_type": "display_data",
          "data": {
            "text/html": [
              "<html>\n",
              "<head><meta charset=\"utf-8\" /></head>\n",
              "<body>\n",
              "    <div>            <script src=\"https://cdnjs.cloudflare.com/ajax/libs/mathjax/2.7.5/MathJax.js?config=TeX-AMS-MML_SVG\"></script><script type=\"text/javascript\">if (window.MathJax && window.MathJax.Hub && window.MathJax.Hub.Config) {window.MathJax.Hub.Config({SVG: {font: \"STIX-Web\"}});}</script>                <script type=\"text/javascript\">window.PlotlyConfig = {MathJaxConfig: 'local'};</script>\n",
              "        <script src=\"https://cdn.plot.ly/plotly-2.18.2.min.js\"></script>                <div id=\"19359f31-c582-4275-b79c-232a5d1e6bcd\" class=\"plotly-graph-div\" style=\"height:525px; width:100%;\"></div>            <script type=\"text/javascript\">                                    window.PLOTLYENV=window.PLOTLYENV || {};                                    if (document.getElementById(\"19359f31-c582-4275-b79c-232a5d1e6bcd\")) {                    Plotly.newPlot(                        \"19359f31-c582-4275-b79c-232a5d1e6bcd\",                        [{\"hovertemplate\":\"Date=%{x}<br>Close=%{y}<extra></extra>\",\"legendgroup\":\"\",\"line\":{\"color\":\"#636efa\",\"dash\":\"solid\"},\"marker\":{\"symbol\":\"circle\",\"line\":{\"color\":\"orange\",\"width\":2}},\"mode\":\"lines\",\"name\":\"\",\"orientation\":\"v\",\"showlegend\":false,\"x\":[\"2016-01-01T00:00:00\",\"2016-01-02T00:00:00\",\"2016-01-03T00:00:00\",\"2016-01-04T00:00:00\",\"2016-01-05T00:00:00\",\"2016-01-06T00:00:00\",\"2016-01-07T00:00:00\",\"2016-01-08T00:00:00\",\"2016-01-09T00:00:00\",\"2016-01-10T00:00:00\",\"2016-01-11T00:00:00\",\"2016-01-12T00:00:00\",\"2016-01-13T00:00:00\",\"2016-01-14T00:00:00\",\"2016-01-15T00:00:00\",\"2016-01-16T00:00:00\",\"2016-01-17T00:00:00\",\"2016-01-18T00:00:00\",\"2016-01-19T00:00:00\",\"2016-01-20T00:00:00\",\"2016-01-21T00:00:00\",\"2016-01-22T00:00:00\",\"2016-01-23T00:00:00\",\"2016-01-24T00:00:00\",\"2016-01-25T00:00:00\",\"2016-01-26T00:00:00\",\"2016-01-27T00:00:00\",\"2016-01-28T00:00:00\",\"2016-01-29T00:00:00\",\"2016-01-30T00:00:00\",\"2016-01-31T00:00:00\"],\"xaxis\":\"x\",\"y\":[434.334015,433.437988,430.010986,433.091003,431.959991,429.105011,458.048004,453.230011,447.610992,447.990997,448.428009,435.690002,432.371002,430.306,364.330994,387.536011,382.299011,387.167999,380.148987,420.230011,410.261993,382.492004,387.490997,402.971008,391.726013,392.153015,394.971985,380.289001,379.473999,378.255005,368.766998],\"yaxis\":\"y\",\"type\":\"scatter\",\"opacity\":0.8}],                        {\"template\":{\"data\":{\"histogram2dcontour\":[{\"type\":\"histogram2dcontour\",\"colorbar\":{\"outlinewidth\":0,\"ticks\":\"\"},\"colorscale\":[[0.0,\"#0d0887\"],[0.1111111111111111,\"#46039f\"],[0.2222222222222222,\"#7201a8\"],[0.3333333333333333,\"#9c179e\"],[0.4444444444444444,\"#bd3786\"],[0.5555555555555556,\"#d8576b\"],[0.6666666666666666,\"#ed7953\"],[0.7777777777777778,\"#fb9f3a\"],[0.8888888888888888,\"#fdca26\"],[1.0,\"#f0f921\"]]}],\"choropleth\":[{\"type\":\"choropleth\",\"colorbar\":{\"outlinewidth\":0,\"ticks\":\"\"}}],\"histogram2d\":[{\"type\":\"histogram2d\",\"colorbar\":{\"outlinewidth\":0,\"ticks\":\"\"},\"colorscale\":[[0.0,\"#0d0887\"],[0.1111111111111111,\"#46039f\"],[0.2222222222222222,\"#7201a8\"],[0.3333333333333333,\"#9c179e\"],[0.4444444444444444,\"#bd3786\"],[0.5555555555555556,\"#d8576b\"],[0.6666666666666666,\"#ed7953\"],[0.7777777777777778,\"#fb9f3a\"],[0.8888888888888888,\"#fdca26\"],[1.0,\"#f0f921\"]]}],\"heatmap\":[{\"type\":\"heatmap\",\"colorbar\":{\"outlinewidth\":0,\"ticks\":\"\"},\"colorscale\":[[0.0,\"#0d0887\"],[0.1111111111111111,\"#46039f\"],[0.2222222222222222,\"#7201a8\"],[0.3333333333333333,\"#9c179e\"],[0.4444444444444444,\"#bd3786\"],[0.5555555555555556,\"#d8576b\"],[0.6666666666666666,\"#ed7953\"],[0.7777777777777778,\"#fb9f3a\"],[0.8888888888888888,\"#fdca26\"],[1.0,\"#f0f921\"]]}],\"heatmapgl\":[{\"type\":\"heatmapgl\",\"colorbar\":{\"outlinewidth\":0,\"ticks\":\"\"},\"colorscale\":[[0.0,\"#0d0887\"],[0.1111111111111111,\"#46039f\"],[0.2222222222222222,\"#7201a8\"],[0.3333333333333333,\"#9c179e\"],[0.4444444444444444,\"#bd3786\"],[0.5555555555555556,\"#d8576b\"],[0.6666666666666666,\"#ed7953\"],[0.7777777777777778,\"#fb9f3a\"],[0.8888888888888888,\"#fdca26\"],[1.0,\"#f0f921\"]]}],\"contourcarpet\":[{\"type\":\"contourcarpet\",\"colorbar\":{\"outlinewidth\":0,\"ticks\":\"\"}}],\"contour\":[{\"type\":\"contour\",\"colorbar\":{\"outlinewidth\":0,\"ticks\":\"\"},\"colorscale\":[[0.0,\"#0d0887\"],[0.1111111111111111,\"#46039f\"],[0.2222222222222222,\"#7201a8\"],[0.3333333333333333,\"#9c179e\"],[0.4444444444444444,\"#bd3786\"],[0.5555555555555556,\"#d8576b\"],[0.6666666666666666,\"#ed7953\"],[0.7777777777777778,\"#fb9f3a\"],[0.8888888888888888,\"#fdca26\"],[1.0,\"#f0f921\"]]}],\"surface\":[{\"type\":\"surface\",\"colorbar\":{\"outlinewidth\":0,\"ticks\":\"\"},\"colorscale\":[[0.0,\"#0d0887\"],[0.1111111111111111,\"#46039f\"],[0.2222222222222222,\"#7201a8\"],[0.3333333333333333,\"#9c179e\"],[0.4444444444444444,\"#bd3786\"],[0.5555555555555556,\"#d8576b\"],[0.6666666666666666,\"#ed7953\"],[0.7777777777777778,\"#fb9f3a\"],[0.8888888888888888,\"#fdca26\"],[1.0,\"#f0f921\"]]}],\"mesh3d\":[{\"type\":\"mesh3d\",\"colorbar\":{\"outlinewidth\":0,\"ticks\":\"\"}}],\"scatter\":[{\"fillpattern\":{\"fillmode\":\"overlay\",\"size\":10,\"solidity\":0.2},\"type\":\"scatter\"}],\"parcoords\":[{\"type\":\"parcoords\",\"line\":{\"colorbar\":{\"outlinewidth\":0,\"ticks\":\"\"}}}],\"scatterpolargl\":[{\"type\":\"scatterpolargl\",\"marker\":{\"colorbar\":{\"outlinewidth\":0,\"ticks\":\"\"}}}],\"bar\":[{\"error_x\":{\"color\":\"#2a3f5f\"},\"error_y\":{\"color\":\"#2a3f5f\"},\"marker\":{\"line\":{\"color\":\"#E5ECF6\",\"width\":0.5},\"pattern\":{\"fillmode\":\"overlay\",\"size\":10,\"solidity\":0.2}},\"type\":\"bar\"}],\"scattergeo\":[{\"type\":\"scattergeo\",\"marker\":{\"colorbar\":{\"outlinewidth\":0,\"ticks\":\"\"}}}],\"scatterpolar\":[{\"type\":\"scatterpolar\",\"marker\":{\"colorbar\":{\"outlinewidth\":0,\"ticks\":\"\"}}}],\"histogram\":[{\"marker\":{\"pattern\":{\"fillmode\":\"overlay\",\"size\":10,\"solidity\":0.2}},\"type\":\"histogram\"}],\"scattergl\":[{\"type\":\"scattergl\",\"marker\":{\"colorbar\":{\"outlinewidth\":0,\"ticks\":\"\"}}}],\"scatter3d\":[{\"type\":\"scatter3d\",\"line\":{\"colorbar\":{\"outlinewidth\":0,\"ticks\":\"\"}},\"marker\":{\"colorbar\":{\"outlinewidth\":0,\"ticks\":\"\"}}}],\"scattermapbox\":[{\"type\":\"scattermapbox\",\"marker\":{\"colorbar\":{\"outlinewidth\":0,\"ticks\":\"\"}}}],\"scatterternary\":[{\"type\":\"scatterternary\",\"marker\":{\"colorbar\":{\"outlinewidth\":0,\"ticks\":\"\"}}}],\"scattercarpet\":[{\"type\":\"scattercarpet\",\"marker\":{\"colorbar\":{\"outlinewidth\":0,\"ticks\":\"\"}}}],\"carpet\":[{\"aaxis\":{\"endlinecolor\":\"#2a3f5f\",\"gridcolor\":\"white\",\"linecolor\":\"white\",\"minorgridcolor\":\"white\",\"startlinecolor\":\"#2a3f5f\"},\"baxis\":{\"endlinecolor\":\"#2a3f5f\",\"gridcolor\":\"white\",\"linecolor\":\"white\",\"minorgridcolor\":\"white\",\"startlinecolor\":\"#2a3f5f\"},\"type\":\"carpet\"}],\"table\":[{\"cells\":{\"fill\":{\"color\":\"#EBF0F8\"},\"line\":{\"color\":\"white\"}},\"header\":{\"fill\":{\"color\":\"#C8D4E3\"},\"line\":{\"color\":\"white\"}},\"type\":\"table\"}],\"barpolar\":[{\"marker\":{\"line\":{\"color\":\"#E5ECF6\",\"width\":0.5},\"pattern\":{\"fillmode\":\"overlay\",\"size\":10,\"solidity\":0.2}},\"type\":\"barpolar\"}],\"pie\":[{\"automargin\":true,\"type\":\"pie\"}]},\"layout\":{\"autotypenumbers\":\"strict\",\"colorway\":[\"#636efa\",\"#EF553B\",\"#00cc96\",\"#ab63fa\",\"#FFA15A\",\"#19d3f3\",\"#FF6692\",\"#B6E880\",\"#FF97FF\",\"#FECB52\"],\"font\":{\"color\":\"#2a3f5f\"},\"hovermode\":\"closest\",\"hoverlabel\":{\"align\":\"left\"},\"paper_bgcolor\":\"white\",\"plot_bgcolor\":\"#E5ECF6\",\"polar\":{\"bgcolor\":\"#E5ECF6\",\"angularaxis\":{\"gridcolor\":\"white\",\"linecolor\":\"white\",\"ticks\":\"\"},\"radialaxis\":{\"gridcolor\":\"white\",\"linecolor\":\"white\",\"ticks\":\"\"}},\"ternary\":{\"bgcolor\":\"#E5ECF6\",\"aaxis\":{\"gridcolor\":\"white\",\"linecolor\":\"white\",\"ticks\":\"\"},\"baxis\":{\"gridcolor\":\"white\",\"linecolor\":\"white\",\"ticks\":\"\"},\"caxis\":{\"gridcolor\":\"white\",\"linecolor\":\"white\",\"ticks\":\"\"}},\"coloraxis\":{\"colorbar\":{\"outlinewidth\":0,\"ticks\":\"\"}},\"colorscale\":{\"sequential\":[[0.0,\"#0d0887\"],[0.1111111111111111,\"#46039f\"],[0.2222222222222222,\"#7201a8\"],[0.3333333333333333,\"#9c179e\"],[0.4444444444444444,\"#bd3786\"],[0.5555555555555556,\"#d8576b\"],[0.6666666666666666,\"#ed7953\"],[0.7777777777777778,\"#fb9f3a\"],[0.8888888888888888,\"#fdca26\"],[1.0,\"#f0f921\"]],\"sequentialminus\":[[0.0,\"#0d0887\"],[0.1111111111111111,\"#46039f\"],[0.2222222222222222,\"#7201a8\"],[0.3333333333333333,\"#9c179e\"],[0.4444444444444444,\"#bd3786\"],[0.5555555555555556,\"#d8576b\"],[0.6666666666666666,\"#ed7953\"],[0.7777777777777778,\"#fb9f3a\"],[0.8888888888888888,\"#fdca26\"],[1.0,\"#f0f921\"]],\"diverging\":[[0,\"#8e0152\"],[0.1,\"#c51b7d\"],[0.2,\"#de77ae\"],[0.3,\"#f1b6da\"],[0.4,\"#fde0ef\"],[0.5,\"#f7f7f7\"],[0.6,\"#e6f5d0\"],[0.7,\"#b8e186\"],[0.8,\"#7fbc41\"],[0.9,\"#4d9221\"],[1,\"#276419\"]]},\"xaxis\":{\"gridcolor\":\"white\",\"linecolor\":\"white\",\"ticks\":\"\",\"title\":{\"standoff\":15},\"zerolinecolor\":\"white\",\"automargin\":true,\"zerolinewidth\":2},\"yaxis\":{\"gridcolor\":\"white\",\"linecolor\":\"white\",\"ticks\":\"\",\"title\":{\"standoff\":15},\"zerolinecolor\":\"white\",\"automargin\":true,\"zerolinewidth\":2},\"scene\":{\"xaxis\":{\"backgroundcolor\":\"#E5ECF6\",\"gridcolor\":\"white\",\"linecolor\":\"white\",\"showbackground\":true,\"ticks\":\"\",\"zerolinecolor\":\"white\",\"gridwidth\":2},\"yaxis\":{\"backgroundcolor\":\"#E5ECF6\",\"gridcolor\":\"white\",\"linecolor\":\"white\",\"showbackground\":true,\"ticks\":\"\",\"zerolinecolor\":\"white\",\"gridwidth\":2},\"zaxis\":{\"backgroundcolor\":\"#E5ECF6\",\"gridcolor\":\"white\",\"linecolor\":\"white\",\"showbackground\":true,\"ticks\":\"\",\"zerolinecolor\":\"white\",\"gridwidth\":2}},\"shapedefaults\":{\"line\":{\"color\":\"#2a3f5f\"}},\"annotationdefaults\":{\"arrowcolor\":\"#2a3f5f\",\"arrowhead\":0,\"arrowwidth\":1},\"geo\":{\"bgcolor\":\"white\",\"landcolor\":\"#E5ECF6\",\"subunitcolor\":\"white\",\"showland\":true,\"showlakes\":true,\"lakecolor\":\"white\"},\"title\":{\"x\":0.05},\"mapbox\":{\"style\":\"light\"}}},\"xaxis\":{\"anchor\":\"y\",\"domain\":[0.0,1.0],\"title\":{\"text\":\"Date\"},\"showgrid\":false},\"yaxis\":{\"anchor\":\"x\",\"domain\":[0.0,1.0],\"title\":{\"text\":\"Close\"},\"showgrid\":false},\"legend\":{\"tracegroupgap\":0},\"margin\":{\"t\":60},\"title\":{\"text\":\"Considered period to predict Bitcoin close price\"},\"font\":{\"size\":15,\"color\":\"black\"},\"plot_bgcolor\":\"white\"},                        {\"responsive\": true}                    ).then(function(){\n",
              "                            \n",
              "var gd = document.getElementById('19359f31-c582-4275-b79c-232a5d1e6bcd');\n",
              "var x = new MutationObserver(function (mutations, observer) {{\n",
              "        var display = window.getComputedStyle(gd).display;\n",
              "        if (!display || display === 'none') {{\n",
              "            console.log([gd, 'removed!']);\n",
              "            Plotly.purge(gd);\n",
              "            observer.disconnect();\n",
              "        }}\n",
              "}});\n",
              "\n",
              "// Listen for the removal of the full notebook cells\n",
              "var notebookContainer = gd.closest('#notebook-container');\n",
              "if (notebookContainer) {{\n",
              "    x.observe(notebookContainer, {childList: true});\n",
              "}}\n",
              "\n",
              "// Listen for the clearing of the current output cell\n",
              "var outputEl = gd.closest('.output');\n",
              "if (outputEl) {{\n",
              "    x.observe(outputEl, {childList: true});\n",
              "}}\n",
              "\n",
              "                        })                };                            </script>        </div>\n",
              "</body>\n",
              "</html>"
            ]
          },
          "metadata": {}
        }
      ]
    }
  ],
  "metadata": {
    "colab": {
      "provenance": [],
      "include_colab_link": true
    },
    "kernelspec": {
      "display_name": "Python 3",
      "name": "python3"
    },
    "language_info": {
      "name": "python"
    }
  },
  "nbformat": 4,
  "nbformat_minor": 0
}